{
 "cells": [
  {
   "cell_type": "markdown",
   "metadata": {},
   "source": [
    "# <span style=\"color:green\">Cours de Programmation C</span>\n",
    "\n",
    "## <span style=\"color:blue\">Partie 2: *Conditions, Caractères et Boucles*</span>\n"
   ]
  },
  {
   "cell_type": "markdown",
   "metadata": {},
   "source": [
    "## Conditions\n",
    "\n",
    "Il est souvent nécessaire en programmation de n'éxecuter un bout de code que si une **condition** est **vérifiée**. Afin de vérifier une condition, on utilise le mot-clé ```if```.\n",
    "\n",
    "Par exemple, pour tester si la valeur d'une variable ```a``` est égale à `10`, on écrit: \n",
    "```C\n",
    "if (a == 10) {\n",
    "    /* code éxécuté si a vaut 10 */\n",
    "}\n",
    "```\n",
    "\n",
    "Le code entre ```{}``` ne sera éxecuté que si a vaut ```10```.\n",
    "\n",
    "On notera le ```==```, qu'il ne faut pas confondre avec le ```=``` d'affectation. Il existe 6 opérateurs de comparaison en C:\n",
    "\n",
    "- ```==```: égal\n",
    "- ```!=```: différent\n",
    "- ```>```: strictement supérieur\n",
    "- ```>=```: supérieur ou égal\n",
    "- ```<```: strictement inférieur\n",
    "- ```<=```: inférieur ou égal\n",
    "\n",
    "On peut comparer tout type de variables entre elles, *entiers*, *réels*, *caractères*... Il faut être prudent avec les réels, car la moindre différence dans les décimales induit une **non égalité**.\n",
    "\n",
    "Il est aussi possible d'exécuter du code lorsque la condition est fausse. On utilise alors le mot clé ```else```:\n",
    "\n",
    "```C\n",
    "if (a == 10) {\n",
    "    /* code éxécuté si a vaut 10 */\n",
    "}\n",
    "else {\n",
    "    /* code éxécuté si a différent de 10 */\n",
    "}\n",
    "```\n",
    "\n",
    "Enfin, il existe un dernier mot clé ```else if```, qui permet de tester plusieurs conditions à la suite:\n",
    "\n",
    "```C\n",
    "if (a > 10) {\n",
    "    /* code éxécuté si a supérieur à 10 */\n",
    "}\n",
    "else if (a > 5) {\n",
    "    /* code éxécuté si a supérieur à 5 mais inférieur à 10 */\n",
    "}\n",
    "else {\n",
    "    /* code éxécuté si a inférieur à 5 */\n",
    "}\n",
    "```\n",
    "\n",
    "**Attention**, on aurait aussi pu écrire le code de cette manière:\n",
    "\n",
    "```C\n",
    "if (a > 10) {\n",
    "    /* code éxécuté si a supérieur 10 */\n",
    "}\n",
    "if (a > 5) {\n",
    "    /* code éxécuté si a supérieur à 5 */\n",
    "}\n",
    "else {\n",
    "    /* code éxécuté si a inférieur à 5 */\n",
    "}\n",
    "```\n",
    "\n",
    "Cependant, dans ce cas, lorsque a est supérieur à `10`, deux des conditions seront exécutés, le premier et le deuxième ```if```, contrairement au cas précédent ou seul le premier `if` était exécuté.\n",
    "\n",
    "Par ailleurs, le mot-clé ```else``` réfère toujours au `if`/`else if` qui le précède. Il faut donc bien utiliser ```else if``` si l'on ne souhaite être sélectif dans nos conditions."
   ]
  },
  {
   "cell_type": "markdown",
   "metadata": {},
   "source": [
    "##  <span style=\"color:red\">Exercice 1</span>\n",
    "\n",
    "**Exercice**:\n",
    "\n",
    "- Afficher si un entier est pair ou impair."
   ]
  },
  {
   "cell_type": "code",
   "execution_count": 1,
   "metadata": {},
   "outputs": [
    {
     "name": "stdout",
     "output_type": "stream",
     "text": [
      "Donnez un entier:\n",
      "32765 est impair\n"
     ]
    }
   ],
   "source": [
    "#include <stdio.h>\n",
    "\n",
    "int main() {\n",
    "    int a;\n",
    "\n",
    "    printf(\"Donnez un entier:\\n\");\n",
    "    scanf(\"%d\", &a);\n",
    "    printf(\"%d\", a = 8);\n",
    "    \n",
    "    /* ECRIRE CODE ICI */\n",
    "    if(a % 2 == 1) {\n",
    "       printf(\"%d est impair\\n\", a);\n",
    "    } else {\n",
    "       printf(\"%d est pair\\n\", a);\n",
    "    }\n",
    "    /**/\n",
    "}"
   ]
  },
  {
   "cell_type": "markdown",
   "metadata": {},
   "source": [
    "##  <span style=\"color:red\">Exercice 2</span>\n",
    "\n",
    "**Exercice**:\n",
    "\n",
    "- Comparer deux entiers a et b, et afficher selon le cas l'un des messages suivants: ```a == b```, ```a > b``` ou ```a < b```."
   ]
  },
  {
   "cell_type": "code",
   "execution_count": 6,
   "metadata": {},
   "outputs": [
    {
     "name": "stdout",
     "output_type": "stream",
     "text": [
      "Donnez deux entiers:\n",
      "a < b\n"
     ]
    }
   ],
   "source": [
    "#include <stdio.h>\n",
    "\n",
    "int main() {\n",
    "    int a, b;\n",
    "\n",
    "    printf(\"Donnez deux entiers:\\n\");\n",
    "    scanf(\"%d%d\", &a, &b);\n",
    "    \n",
    "    /* ECRIRE CODE ICI */\n",
    "    if(a == b) {\n",
    "       printf(\"a = b\\n\");\n",
    "    } else if (a > b) {\n",
    "       printf(\"a > b\\n\");\n",
    "    } else {\n",
    "       printf(\"a < b\\n\");\n",
    "    }\n",
    "    /**/\n",
    "}"
   ]
  },
  {
   "cell_type": "markdown",
   "metadata": {},
   "source": [
    "## Opérateurs logiques\n",
    "\n",
    "Il est parfois nécessaire de tester plusieurs conditions à l'intérieur d'un même ```if```. Dans ce cas, on utilise les **opérateurs logiques**.\n",
    "\n",
    "Un opérateur logique est un opérateur booléen (inventé au départ pour faire des calculs avec des nombres binaires). Il existe trois opérateurs primaires, le **NON (NOT)**, **OU (OR)** et **ET (AND)** logiques. Ces opérateurs sont implémentés dans le language C sous la forme:\n",
    "\n",
    "- ```!```: non logique\n",
    "- ```||```: ou logique\n",
    "- ```&&```: et logique\n",
    "\n",
    "ils permettent de combiner plusieurs coditions ensemble:\n",
    "\n",
    "```C\n",
    "if (a >= 10 && a < 20) {\n",
    "    /* code éxécuté si a compris entre 10 inclus et 20 exclus */\n",
    "}\n",
    "```\n",
    "\n",
    "Si l'on souhaite combiner plus de 2 conditions, il faut parfois utiliser des ```()```. Les conditions entre parenthèses sont vérifiées en **premier**. Par ailleurs, le ```!``` (not) logique est prioritaire sur le ```&&``` (and) qui est lui même prioritaire sur le ```||``` (or), similaire à la multiplication prioritaire sur l'addition.\n",
    "\n",
    "ainsi:\n",
    "\n",
    "```C\n",
    "if ((a > 10 && a < 20) || (b > 30 && b < 40)) {\n",
    "    /* code éxécuté si a compris entre 10 et 20 exclus ou b compris entre 30 et 40 exclus */\n",
    "}\n",
    "```\n",
    "\n",
    "équivaut à:\n",
    "\n",
    "```C\n",
    "if (a > 10 && a < 20 || b > 30 && b < 40) {\n",
    "    /* code éxécuté si a compris entre 10 et 20 exclus ou b compris entre 30 et 40 exclus */\n",
    "}\n",
    "```\n",
    "\n",
    "mais:\n",
    "\n",
    "```C\n",
    "if ((a > 20 || a < 10) && (b > 40 || b < 30)) {\n",
    "    /* code éxécuté si a supérieur à 20 ou inférieur à 10 et b supérieur à 40 ou inférieur à 30 */\n",
    "}\n",
    "```\n",
    "\n",
    "est totalement différent de:\n",
    "\n",
    "```C\n",
    "if (a > 20 || a < 10 && b > 40 || b < 30) {\n",
    "    /* code éxécuté si a supérieur à 20 ou a inférieur à 10 et b supérieur à 40 ou b inférieur à 30 */\n",
    "}\n",
    "```\n",
    "\n",
    "Le ```!``` logique est peu utilisé. Il permet d'inverser une condition:\n",
    "\n",
    "```C\n",
    "if (!(a == 10))\n",
    "```\n",
    "\n",
    "équivaut à:\n",
    "```C\n",
    "if (a != 10)\n",
    "```"
   ]
  },
  {
   "cell_type": "markdown",
   "metadata": {},
   "source": [
    "##  <span style=\"color:red\">Exercice 3</span>\n",
    "\n",
    "**Exercice**:\n",
    "\n",
    "- Lire trois entiers puis les afficher dans un ordre croissant."
   ]
  },
  {
   "cell_type": "code",
   "execution_count": 1,
   "metadata": {},
   "outputs": [
    {
     "name": "stdout",
     "output_type": "stream",
     "text": [
      "Donnez trois entiers:\n",
      "a = 1356284577, b = 941663392, c = 32766\n"
     ]
    }
   ],
   "source": [
    "#include <stdio.h>\n",
    "\n",
    "int main() {\n",
    "    int a, b, c;\n",
    "\n",
    "    printf(\"Donnez trois entiers:\\n\");\n",
    "    scanf(\"%d%d%d\", &a, &b, &c);\n",
    "    \n",
    "    /* ECRIRE CODE ICI */\n",
    "    if(a >= b && a >= c) {\n",
    "        if (b >= c) {\n",
    "            printf(\"a = %d, b = %d, c = %d\\n\", a, b, c);\n",
    "        } else {\n",
    "            printf(\"a = %d, c = %d, b = %d\\n\", a, c, b);\n",
    "        }\n",
    "    } else if (b >= a && b >= c) {\n",
    "        if (a >= c) {\n",
    "            printf(\"b = %d, a = %d, c = %d\\n\", b, a, c);\n",
    "        } else {\n",
    "            printf(\"b = %d, c = %d, a = %d\\n\", b, c, a);\n",
    "        }\n",
    "    } else {\n",
    "        if (a >= b) {\n",
    "            printf(\"c = %d, a = %d, b = %d\\n\", c, a, b);\n",
    "        } else {\n",
    "            printf(\"c = %d, b = %d, a = %d\\n\", c, b, a);\n",
    "        }\n",
    "    }\n",
    "    /**/\n",
    "}"
   ]
  },
  {
   "cell_type": "markdown",
   "metadata": {},
   "source": [
    "## Gestion des caractères\n",
    "\n",
    "Un caractère est un symbole représenant une lettre (majuscule ou minuscule), un chiffre, un signe de  ponctuation ou un caractère spécial. On indique un caractère en le mettant entre `''`. Mais fondamentalement, une machine ne fonctionne qu'avec des nombres. Un caractère est donc toujours codé par un nombre, faisant référence à une table de conversion. Le C utilise par défault la **table ASCII** pour convertir un nombre en caratère.\n",
    "\n",
    "![alt text](../ressources/ASCII.png)\n",
    "\n",
    "Un caractère en C est donc similaire à un entier. Il est possible d'effectuer les mêmes opérations que pour des nombres."
   ]
  },
  {
   "cell_type": "code",
   "execution_count": 7,
   "metadata": {},
   "outputs": [
    {
     "name": "stdout",
     "output_type": "stream",
     "text": [
      "a = 97\n",
      "a + 1 = b = 98\n",
      "b est plus grand que a"
     ]
    }
   ],
   "source": [
    "#include <stdio.h>\n",
    "\n",
    "int main() {\n",
    "    char caractere = 'a';\n",
    "    \n",
    "    printf(\"%c = %d\\n\", caractere, caractere);\n",
    "    \n",
    "    caractere++; // on peut effectuer des operations sur les caracteres\n",
    "    printf(\"a + 1 = %c = %d\\n\", caractere, caractere);\n",
    "    \n",
    "    if ('a' > 'b') { // On peut utiliser des conditions sur les caracteres\n",
    "        printf(\"a est plus grand que b\");\n",
    "    } else {\n",
    "        printf(\"b est plus grand que a\");\n",
    "    }\n",
    "}"
   ]
  },
  {
   "cell_type": "markdown",
   "metadata": {},
   "source": [
    "**Attention**: Les caractères ne peuvent pas dépasser 127, qui est la valeur maximale dans la table ASCII"
   ]
  },
  {
   "cell_type": "markdown",
   "metadata": {},
   "source": [
    "##  <span style=\"color:red\">Exercice 4</span>\n",
    "\n",
    "**Exercice**:\n",
    "\n",
    "- Lire un caractère et déterminer s'il fait partie de l'alphabet ou non. Si oui, dire s’il est en minuscule ou en majuscule."
   ]
  },
  {
   "cell_type": "code",
   "execution_count": 19,
   "metadata": {},
   "outputs": [
    {
     "name": "stdout",
     "output_type": "stream",
     "text": [
      "Entrez un caractere:\n",
      "R est dans l'alphabet\n",
      "R est une majuscule\n"
     ]
    }
   ],
   "source": [
    "#include <stdio.h>\n",
    "\n",
    "int main() {\n",
    "    char cara;\n",
    "\n",
    "    printf(\"Entrez un caractere:\\n\");\n",
    "    scanf(\"%c\", &cara);\n",
    "    \n",
    "    /* ECRIRE CODE ICI */\n",
    "    if(cara >= 'a' && cara <= 'z') {\n",
    "        printf(\"%c est dans l'alphabet\\n\", cara);\n",
    "        printf(\"%c est une minuscule\\n\", cara);\n",
    "    } else if (cara >= 'A' && cara <= 'Z') {\n",
    "        printf(\"%c est dans l'alphabet\\n\", cara);\n",
    "        printf(\"%c est une majuscule\\n\", cara);\n",
    "    } else {\n",
    "        printf(\"%c n'est pas dans l'alphabet\", cara);\n",
    "    }\n",
    "    /**/\n",
    "}"
   ]
  },
  {
   "cell_type": "markdown",
   "metadata": {},
   "source": [
    "## Boucles de contrôles\n",
    "\n",
    "Il est souvent nécessaire dans un programme d'**exécuter une action de manière répétée**, ou **tant qu'une condition n'est pas vérifiée**. C'est dans ce cadre qu'intervienne les boucles de contrôles. Il existe 2 types de boucles: \n",
    "- ```for```: pour itérer un nombre précis de fois.\n",
    "- ```while```: pour itérer jusqu'à ce qu'une condition soit fausse\n",
    "\n",
    "la syntaxe des boucles est assez particulière:\n",
    "\n",
    "```C\n",
    "for (int i = 0; i < 10; i++) {\n",
    "    \n",
    "}\n",
    "```\n",
    "\n",
    "signifie que l'on va itérer ```10``` fois:\n",
    "\n",
    "```C\n",
    "int i = 0 // On initialise une variable i à 0\n",
    "```\n",
    "\n",
    "```C\n",
    "i < 10 // on arrête d'itérer quand i est supérieur ou égal à 10\n",
    "```\n",
    "\n",
    "```C\n",
    "i++ // On ajoute 1 à i à chaque tour de boucle\n",
    "```\n"
   ]
  },
  {
   "cell_type": "code",
   "execution_count": 26,
   "metadata": {},
   "outputs": [
    {
     "name": "stdout",
     "output_type": "stream",
     "text": [
      "i = 0\n",
      "i = 1\n",
      "i = 2\n",
      "i = 3\n"
     ]
    }
   ],
   "source": [
    "#include <stdio.h>\n",
    "\n",
    "int main() {\n",
    "    for (int i = 0; i < 4; i++) {\n",
    "        printf(\"i = %d\\n\", i);\n",
    "    }\n",
    "}"
   ]
  },
  {
   "cell_type": "markdown",
   "metadata": {},
   "source": [
    "Le ```for``` n'est à utiliser que lorsque l'on **connait exactement le nombre d'itération voulue**. Il est possible de modifier les paramètres entre ```()``` pour changer le comportement de la boucle:"
   ]
  },
  {
   "cell_type": "code",
   "execution_count": 2,
   "metadata": {},
   "outputs": [
    {
     "name": "stdout",
     "output_type": "stream",
     "text": [
      "i = 1\n",
      "i = 3\n",
      "i = 5\n",
      "i = 7\n",
      "\n",
      "j = 4\n",
      "j = 3\n",
      "j = 2\n",
      "j = 1\n"
     ]
    }
   ],
   "source": [
    "#include <stdio.h>\n",
    "\n",
    "int main() {\n",
    "    for (int i = 1; i < 8; i = i+2) { // on initialise i à 1, et on lui ajoute 2 à chaque tour de boucle\n",
    "        printf(\"i = %d\\n\", i);\n",
    "    }\n",
    "    printf(\"\\n\");\n",
    "    for (int j = 4; j > 0; j--) { // on initialise j à 4, et on lui enleve 1 à chaque tour de boucle\n",
    "        printf(\"j = %d\\n\", j);\n",
    "    }\n",
    "}"
   ]
  },
  {
   "cell_type": "markdown",
   "metadata": {},
   "source": [
    "Lorsque l'on **ne connait pas le nombre d'itérations voulues**, il faut dans ce cas utiliser ```while```:\n",
    "\n",
    "```C\n",
    "while (a != 10) {\n",
    "    \n",
    "}\n",
    "```\n",
    "\n",
    "signifie que l'on va itérer tant que a est différent de ```10```."
   ]
  },
  {
   "cell_type": "code",
   "execution_count": 3,
   "metadata": {},
   "outputs": [
    {
     "name": "stdout",
     "output_type": "stream",
     "text": [
      "Rentrer une valeur\n",
      "Rentrer une valeur\n",
      "Rentrer une valeur\n",
      "Rentrer une valeur\n"
     ]
    }
   ],
   "source": [
    "#include <stdio.h>\n",
    "\n",
    "int main() {\n",
    "    int a = 0;\n",
    "    while (a != 10) { // on itère tant que l'utilisateur rentre une valeur différente de 10\n",
    "        printf(\"Rentrer une valeur\\n\");\n",
    "        scanf(\"%d\", &a);\n",
    "    }\n",
    "}"
   ]
  },
  {
   "cell_type": "markdown",
   "metadata": {},
   "source": [
    "##  <span style=\"color:red\">Exercice 5</span>\n",
    "\n",
    "**Exercice**:\n",
    "\n",
    "- Lire un entier puis déterminer s'il est premier ou non.\n",
    "\n",
    "On rappelle qu'un entier est dit premier s'il a exactement deux diviseurs différents; 1 et lui-même.\n",
    "Ex: 2, 3, 7, 17, 101 sont tous premiers, et 4, 10, 27 ne le sont pas."
   ]
  },
  {
   "cell_type": "code",
   "execution_count": 20,
   "metadata": {},
   "outputs": [
    {
     "name": "stdout",
     "output_type": "stream",
     "text": [
      "Rentrer une valeur\n",
      "2141977733 n'est pas premier.\n"
     ]
    }
   ],
   "source": [
    "#include <stdio.h>\n",
    "\n",
    "int main() {\n",
    "    int a;\n",
    "    printf(\"Rentrer une valeur\\n\");\n",
    "    scanf(\"%d\", &a);\n",
    "    \n",
    "    /* ECRIRE CODE ICI */\n",
    "    int premier = 1;\n",
    "    for (int i = 2; i < a; i++) {\n",
    "        if (a % i == 0) {\n",
    "            premier = 0;\n",
    "        }\n",
    "    }\n",
    "    if (premier) {\n",
    "        printf(\"%d est premier.\\n\", a);\n",
    "    } else {\n",
    "        printf(\"%d n'est pas premier.\\n\", a);\n",
    "    }\n",
    "    /**/\n",
    "}"
   ]
  },
  {
   "cell_type": "markdown",
   "metadata": {},
   "source": [
    "##  <span style=\"color:red\">Exercice 6</span>\n",
    "\n",
    "**Exercice**:\n",
    "\n",
    "- Calculer le nième terme de la suite de Fibonacci, définie comme suit: ```Un = Un-1 + Un-2``` avec ```U1 = U0 = 1```."
   ]
  },
  {
   "cell_type": "code",
   "execution_count": 29,
   "metadata": {},
   "outputs": [
    {
     "name": "stdout",
     "output_type": "stream",
     "text": [
      "Rentrer un entier\n",
      "le 35ieme terme de la suite de Fibonacci = 12149"
     ]
    }
   ],
   "source": [
    "#include <stdio.h>\n",
    "\n",
    "int main() {\n",
    "    int n;\n",
    "    printf(\"Rentrer un entier\\n\");\n",
    "    scanf(\"%d\", &n);\n",
    "    n = 35;\n",
    "    \n",
    "    /* ECRIRE CODE ICI */\n",
    "    int Un, UnMinus1 = 1, UnMinus2 = 1;\n",
    "    \n",
    "    if (n < 2) {\n",
    "        Un = 1;\n",
    "    } else {\n",
    "        for (int i = 2; i <= n; i++) {\n",
    "            Un = UnMinus1 + UnMinus2;\n",
    "            UnMinus2 = UnMinus1;\n",
    "            UnMinus1 = Un;\n",
    "        }\n",
    "    }\n",
    "\n",
    "    printf(\"le %dieme terme de la suite de Fibonacci = %d\", n, Un);\n",
    "    /**/\n",
    "}"
   ]
  },
  {
   "cell_type": "markdown",
   "metadata": {},
   "source": [
    "## Directive de contrôle\n",
    "\n",
    "Il existe 2 directives en C permettant d'altérer le comportement d'une boucle:\n",
    "- ```break```: permet de forcer à sortir d'une boucle même si la condition de sortie n'est pas encore vérifiée.\n",
    "\n",
    "```C\n",
    "int n = 0;\n",
    "while (1) { // boucle infinie\n",
    "    n++;\n",
    "    if (n == 10) {\n",
    "        break; // on sort de la boucle après 10 itérations\n",
    "    }\n",
    "}\n",
    "```\n",
    "\n",
    "- ```continue```: permet de retourner en haut de la boucle sans éxecuter les instructions suivant ce mot clé.\n",
    "\n",
    "```C\n",
    "int n = 0;\n",
    "while (n < 10) {\n",
    "    n++;\n",
    "\n",
    "    if (n % 2 == 1) { // si n est impair\n",
    "        continue; // on retourne au début de l'instruction while\n",
    "    }\n",
    "\n",
    "    printf(\"The number %d is even.\\n\", n); // le printf n'est exécuté que si n est pair\n",
    "}\n",
    "\n",
    "```"
   ]
  }
 ],
 "metadata": {
  "kernelspec": {
   "display_name": "C",
   "language": "c",
   "name": "c"
  },
  "language_info": {
   "file_extension": ".c",
   "mimetype": "text/plain",
   "name": "c"
  }
 },
 "nbformat": 4,
 "nbformat_minor": 2
}
