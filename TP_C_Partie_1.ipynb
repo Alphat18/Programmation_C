{
 "cells": [
  {
   "cell_type": "markdown",
   "metadata": {},
   "source": [
    "# <span style=\"color:green\">Cours de Programmation C</span>\n",
    "\n",
    "## <span style=\"color:blue\">Partie 1: *Introduction à la compilation, Variables et Opérations*</span>"
   ]
  },
  {
   "cell_type": "markdown",
   "metadata": {},
   "source": [
    "Nous allons dans ce cours apprendre à programmer dans le **langage C**. Le C est un langage de programmation permettant d'écrire des **programmes informatiques**, eux-mêmes servant de base à tous types de logiciels. La programmation est aujourd'hui un outil essentiel, quel que soit le domaine d'étude.\n",
    "\n",
    "Le C est un langage assez ancien, mais encore très utilisé aujourd'hui, et qui pose les bases de bien d'autres langages plus récents.\n",
    "\n",
    "Commençons tout d'abord par prendre un exemple très simple de programme:"
   ]
  },
  {
   "cell_type": "code",
   "execution_count": 35,
   "metadata": {},
   "outputs": [
    {
     "name": "stdout",
     "output_type": "stream",
     "text": [
      "Hello World!"
     ]
    }
   ],
   "source": [
    "#include <stdio.h>\n",
    "\n",
    "int main() {\n",
    "  printf(\"Hello World!\");\n",
    "}"
   ]
  },
  {
   "cell_type": "markdown",
   "metadata": {},
   "source": [
    "Ce programme permet simplement d'afficher la phrase ```Hello World!```. Notre premier objectif va être de réussir à **éxecuter** ce programme (c'est-à-dire faire en sorte que l'ordinateur effectue ce qui est écrit dans le programme).\n",
    "\n",
    "- Recopier le programme dans un fichier nommé ```hello.c``` quelque part dans votre ordinateur (je vous conseille de créer un **dossier** à part qui contiendra tous les *exemples* et *exercices* de ce cours.\n",
    "\n",
    "On appelle le fichier contenant le programme un **fichier source**. Ce fichier ne peut pas être éxecuter directement par la machine. Il faut tout d'abord le traduire dans un language que l'ordinateur peut comprendre (une suite de 0 et de 1). Pour ça, on utilise un ***compilateur***."
   ]
  },
  {
   "cell_type": "markdown",
   "metadata": {},
   "source": [
    "## La compilation en C\n",
    "\n",
    "Un compilateur va traduire le code écrit en une suite d'instructions compréhensible par la machine. C'est un processus en plusieurs étapes que nous allons détailler dans la partie suivante.\n",
    "\n",
    "Plusieurs compilateurs existent, les 2 principaux étant **gcc** et **clang**. Nous allons ici utiliser gcc (déjà présent sur l'ordinateur normalement). \n",
    "\n",
    "La compilation d'un programme se déroule en 2 étapes:\n",
    "\n",
    "- *La compilation* : le fichier texte est traduit en assembleur, une suite d’instructions associées aux fonctionnalités du processeur (faire une addition, etc.) Ce code assembleur est écrit dans en un **fichier objet**, compréhensible par le processeur.\n",
    "\n",
    "- *L’édition de liens* : afin d’utiliser des librairies de fonctions déjà écrites, un programme est séparé en plusieurs fichiers source. Une fois le code source assemblé, il faut lier entre eux les fichiers objets. L’édition de liens produit un **fichier exécutable**.\n",
    "\n",
    "En ouvrant un terminal (sous *ubuntu*: clic droit -> \"ouvrir dans un terminal\") au niveau de ce fichier, la compilation s'effectue avec:\n",
    "\n",
    "```gcc -c hello.c -o hello.o```\n",
    "\n",
    "```gcc``` est le programme permettant de compiler, ```-c``` est un paramètre indiquant que l'on veut seulement compiler (pas d'édition des liens). ```hello.c``` est le chemin du fichier source. ```-o hello.o``` est un paramètre indiquant le nom du fichier objet.\n",
    "\n",
    "Un fichier objet \"hello.o\" est créé dans le même dossier.\n",
    "\n",
    "L'édition des liens s'effectue avec:\n",
    "\n",
    "```gcc -o hello hello.o```\n",
    "\n",
    "```-o hello``` est un paramètre indiquant le nom du fichier éxecutable.```hello.o``` est le chemin du fichier objet.\n",
    "Un fichier exécutable \"hello\" est créé dans le même dossier.\n",
    "\n",
    "Enfin, on lance le programme avec:\n",
    "\n",
    "```./hello```\n",
    "\n",
    "Ce qui devrait afficher la phrase \"Hello World!\" dans le terminal.\n",
    "\n",
    "### *Remarque:*\n",
    "\n",
    "Il est possible de faire la compilation puis l'édition des liens en même temps en utilisant la commande:\n",
    "\n",
    "```gcc hello.c -o hello```\n",
    "\n",
    "Dans ce cas, le fichier objet ```hello.o``` est implicitement créé."
   ]
  },
  {
   "cell_type": "markdown",
   "metadata": {},
   "source": [
    "### Utilisation d'un IDE\n",
    "\n",
    "Il est tout à fait possible de coder en écrivant tous ses programmes à l'aide d'un éditeur de texte, puis de compiler en ligne de commande comme nous venons de le faire. \n",
    "\n",
    "Cependant, il est souvent plus pratique d'utiliser ce que l'on appelle un IDE (Environnement de Développement). Ces derniers offrent de nombreuses fonctionnalités permettant de simplifier la tâche du programmeur (détection d'erreur, complétion de code, compilation automatique...).\n",
    "\n",
    "Dans le cadre de ce cours, vous avez le choix entre deux méthodes.\n",
    "\n",
    "- Soits installer un IDE (celui que vous souhaiter, mais il y a dans ce cours un tutoriel pour installer l'IDE **Geany** qui est très simple d'utilisation et bien pour commencer).\n",
    "\n",
    "- Soit compiler les codes directement depuis le terminal en utilisant GCC."
   ]
  },
  {
   "cell_type": "markdown",
   "metadata": {},
   "source": [
    "#### Installation IDE Geany\n",
    "\n",
    "Sous Linux, on peut l'installer en ouvrant un terminal, puis on écrit:\n",
    "\n",
    "```sudo apt-get install geany```\n",
    "\n",
    "On peut ensuite l'ouvrir en allant chercher geany dans les applications, ou en tapant dans le terminal:\n",
    "\n",
    "```geany```\n",
    "\n",
    "Et voilà ! Merci Linux. On peut désormais écrire un programme."
   ]
  },
  {
   "cell_type": "markdown",
   "metadata": {},
   "source": [
    "## Syntaxe language C\n",
    "\n",
    "Un language de programmation suit toujours ce que l'on apelle une **syntaxe**. Ce sont des mots clés que le compilateur va pouvoir traduire en un éxecutable."
   ]
  },
  {
   "cell_type": "code",
   "execution_count": 36,
   "metadata": {},
   "outputs": [
    {
     "name": "stdout",
     "output_type": "stream",
     "text": [
      "Hello World!"
     ]
    }
   ],
   "source": [
    "#include <stdio.h>\n",
    "\n",
    "int main() {\n",
    "    printf(\"Hello World!\");\n",
    "}"
   ]
  },
  {
   "cell_type": "markdown",
   "metadata": {},
   "source": [
    "On peut déjà voir un certain nombre de ces mots-clés:\n",
    "\n",
    "```#include <stdio.h>```\n",
    "\n",
    "permet d'inclure une **bibliothèque**. Cette dernière contient un certain nombre de **fonctions**. Nous en reparlerons plus en détail dans un autre chapitre, mais une fonction est tout simplement un bout de code permettant de réaliser des tâches diverses.\n",
    "\n",
    "Ici, la bibliothèque <stdio.h> permet entre autre d'utiliser la fonction ```printf```, qui affiche un texte dans un terminal.\n",
    "\n",
    "```int main() { }```\n",
    "\n",
    "Définit la **fonction principale**, qui est la base de tout programme en C. C'est à l'intérieur de cette fonction (entre les ```{ }```) que l'on va écrire nos programmes.\n",
    "\n",
    "```printf(\"Hello World!);```\n",
    "\n",
    "permet d'afficher le texte \"Hello World!\" dans le terminal.\n",
    "\n",
    "On remarque aussi que toute ligne d'**instructions** se termine par un ```;```. **C'est obligatoire en C**. Le compilateur refusera de fonctionner sans."
   ]
  },
  {
   "cell_type": "markdown",
   "metadata": {},
   "source": [
    "## Variables et Types\n",
    "\n",
    "Une variable correspond tout simplement à un emplacement mémoire ou l'on va stocker différents type d'information.\n",
    "Par exemple:\n",
    "\n",
    "```c\n",
    "int a;\n",
    "a = 10;\n",
    "```\n",
    "\n",
    "Définis une variable nommée ```a```, de type ```int```, auquel on assigne la valeur ```10```.\n",
    "\n",
    "Le type d'une variable définit quel genre d'information une variable va pouvoir stocker. Les 3 plus importants sont:\n",
    "\n",
    "- ```int```: **integer** pour stocker des nombres entiers positifs et négatifs (codé sur 16 bits [-32 768 a +32 767] ou 32 bits [-2 147 483 648 a +2 147 483 647] selon l'architecture du PC).\n",
    "- ```float```: **float** pour stocker des nombres réels positifs et négatifs (codé sur 32 bits).\n",
    "- ```char```: **character** pour stocker un charactères ASCII (les lettres de l'alphabet plus d'autres symboles).\n",
    "\n",
    "Mais il existe des variantes permettant de stocker de plus ou moins grandes valeurs.\n",
    "\n",
    "- ```short```, ```int```, ```long```, ```long long```: pour stocker des entiers de plus en plus grand.\n",
    "- ```float```, ```double```, ```long double```: pour stocker des réels de plus en plus grand.\n",
    "\n",
    "Enfin, il existe le mot-clé ```unsigned``` qui force la variable a stocké des valeurs positives.\n",
    "\n",
    "```C\n",
    "unsigned int a;\n",
    "```\n",
    "\n",
    "Dans ce cas, la variable ```a``` ne pourra stocker que des entiers positifs. C'est une option intéressante dans le cas ou l'on sait que notre variable ne peut pas contenir des valeurs négatives (par exemple pour **l'age** d'une personne)."
   ]
  },
  {
   "cell_type": "markdown",
   "metadata": {},
   "source": [
    "## Opérations sur les variables\n",
    "\n",
    "Stocker des variables est bien, mais on souhaite aussi pouvoir effectuer des opérations dessus. Il existe 5 opérateurs de base:\n",
    "- ```+``` addition\n",
    "- ```-``` soustraction\n",
    "- ```*``` multiplication\n",
    "- ```/``` division (euclidienne si le type de la variable est un entier, tel que ```int```). \n",
    "- ```%``` modulo (le reste de la division euclidienne).\n",
    "\n",
    "Voici des exemples d'utilisation:"
   ]
  },
  {
   "cell_type": "code",
   "execution_count": 37,
   "metadata": {},
   "outputs": [
    {
     "name": "stdout",
     "output_type": "stream",
     "text": [
      "a = 5\n",
      "a = 10\n",
      "a = 2\n"
     ]
    }
   ],
   "source": [
    "#include <stdio.h>\n",
    "\n",
    "int main() {\n",
    "    int a;\n",
    "    a = 2 + 3;\n",
    "    printf(\"a = %d\\n\", a); // permet simplement d'afficher la valeur de la variable\n",
    "    \n",
    "    a = a * 2;\n",
    "    printf(\"a = %d\\n\", a);\n",
    "    \n",
    "    int b = 5;\n",
    "    a = a / b;\n",
    "    printf(\"a = %d\\n\", a);\n",
    "}"
   ]
  },
  {
   "cell_type": "markdown",
   "metadata": {},
   "source": [
    "##  <span style=\"color:red\">Exercice 1</span>\n",
    "\n",
    "**Exercice**:\n",
    "- Calculer le **quotient** et le **reste** de la division euclidienne de ```a``` par ```b```."
   ]
  },
  {
   "cell_type": "code",
   "execution_count": 38,
   "metadata": {},
   "outputs": [
    {
     "name": "stdout",
     "output_type": "stream",
     "text": [
      "quotient = 2, reste = 1"
     ]
    }
   ],
   "source": [
    "#include <stdio.h>\n",
    "\n",
    "int main() {\n",
    "    int a = 5;\n",
    "    int b = 2;\n",
    "    int quotient;\n",
    "    int reste;\n",
    "    \n",
    "    /* ECRIRE LE CODE ICI */\n",
    "    \n",
    "    printf(\"quotient = %d, reste = %d\", quotient, reste);\n",
    "}"
   ]
  },
  {
   "cell_type": "markdown",
   "metadata": {},
   "source": [
    "### *Remarque:*\n",
    "\n",
    "Soit la variable entière ```int a```:\n",
    "\n",
    "Lorsque l'on souhaite modifier cette variable directement (tel que lui rajouter 2), il est possible de simplifier l'équation:\n",
    "\n",
    "```C\n",
    "a = a + 2;\n",
    "```\n",
    "\n",
    "par:\n",
    "\n",
    "```C\n",
    "a += 2;\n",
    "```\n",
    "\n",
    "Les 5 opérations suivantes:\n",
    "- ```+=```\n",
    "- ```-=```\n",
    "- ```*=```\n",
    "- ```/=```\n",
    "- ```%=```\n",
    "\n",
    "Permettent donc d'éviter de répéter le nom de la variable pour les 5 opérations de bases décrites précédemment.\n",
    "\n",
    "Il existe aussi une syntaxe particulière pour l'opération **ajouter/enlever 1** à une variable. Ainsi:\n",
    "\n",
    "```C\n",
    "a++;\n",
    "a--;\n",
    "```\n",
    "\n",
    "équivaut à:\n",
    "\n",
    "```C\n",
    "a = a + 1;\n",
    "a = a - 1;\n",
    "```"
   ]
  },
  {
   "cell_type": "markdown",
   "metadata": {},
   "source": [
    "##  <span style=\"color:red\">Exercice 2</span>\n",
    "\n",
    "Nous allons dans cet exercice essayer de comprendre les limites des variables. Un ordinateur ne peut pas assigner un espace mémoire infini à une variable. Aussi, les variables sont limités dans la taille des valeurs qu'elle peuvent contenir.\n",
    "\n",
    "**Exercice**:\n",
    "- Définir une variable nommé ```a``` de type ```int``` et lui assigne la valeur 2 147 483 647.\n",
    "- Ajouter ```1``` à cette variable."
   ]
  },
  {
   "cell_type": "code",
   "execution_count": 1,
   "metadata": {},
   "outputs": [
    {
     "name": "stdout",
     "output_type": "stream",
     "text": [
      "a = 2147483647\n",
      "a = -2147483648\n"
     ]
    }
   ],
   "source": [
    "#include <stdio.h>\n",
    "\n",
    "int main() {\n",
    "    \n",
    "    /* ECRIRE LE CODE ICI */\n",
    "    \n",
    "    printf(\"a = %d\\n\", a);\n",
    "    \n",
    "    /* ECRIRE LE CODE ICI */\n",
    "    \n",
    "    printf(\"a = %d\\n\", a); \n",
    "}"
   ]
  },
  {
   "cell_type": "markdown",
   "metadata": {},
   "source": [
    "Que se passe t-il ? On apelle cela un **overflow**. La valeur entière maximale que peut contenir un ```int``` est +2 147 483 647. Lorsque l'on dépasse cette valeur, le compilateur va faire le choix d'aller dans les négatifs plutôt que de retourner une erreur.\n",
    "\n",
    "Les variables d'un ordinateur se comporte donc de la même manière que pour les valeurs sur un cercle par exemple."
   ]
  },
  {
   "cell_type": "markdown",
   "metadata": {},
   "source": [
    "##  <span style=\"color:red\">Exercice 3</span>\n",
    "\n",
    "**Exercice**:\n",
    "\n",
    "- Permuter le contenu de deux variables entières ```a``` et ```b``` en passant par une troisième variable."
   ]
  },
  {
   "cell_type": "code",
   "execution_count": 2,
   "metadata": {},
   "outputs": [
    {
     "name": "stdout",
     "output_type": "stream",
     "text": [
      "avant permutation: a = 10, b = 20\n",
      "apres permutation: a = 20, b = 10\n"
     ]
    }
   ],
   "source": [
    "# include <stdio.h>\n",
    "\n",
    "int main() {\n",
    "    int a = 10;\n",
    "    int b = 20;\n",
    "    \n",
    "    printf(\"avant permutation: a = %d, b = %d\\n\", a, b);\n",
    "    \n",
    "    /* ECRIRE LE CODE ICI */\n",
    "    \n",
    "    printf(\"apres permutation: a = %d, b = %d\\n\", a, b);\n",
    "}"
   ]
  },
  {
   "cell_type": "markdown",
   "metadata": {},
   "source": [
    "## Entrée utilisateur\n",
    "\n",
    "Nous avons déjà vu et utilisé la fonction **```printf```** qui permet d'afficher du contenu sur un terminal. Cette fonction a une syntaxe bien particulière afin d'afficher tout type de variables:\n",
    "\n",
    "- ```%d``` ou ```%i``` affiche une variable de type ```int```\n",
    "- ```%f``` affiche une variable de type ```float```\n",
    "- ```%c``` affiche une variable de type ```char```\n",
    "\n",
    "La fonction accepte aussi les chaînes de caractères (texte entre ```\"\"```) afin d'afficher du texte. On peut faire un retour à la ligne avec le caractère spécial ```\\n```.\n",
    "\n",
    "On peut aussi afficher des variables dans d'autres bases, tel que l'hexadécimal (```%x```) ou l'octal (```%o```)\n",
    "\n",
    "Enfin, pour les nombres réels, il est possible de choisir le nombre de chiffres après la virgule à afficher avec ```%0.3f``` (3 chiffres après la virgule)."
   ]
  },
  {
   "cell_type": "code",
   "execution_count": 41,
   "metadata": {},
   "outputs": [
    {
     "name": "stdout",
     "output_type": "stream",
     "text": [
      "l'entier vaut: 45, le reel vaut: 2.781349, le caractere vaut: c.\n",
      "\n",
      "l'entier vaut: 45\n",
      "le reel vaut: 2.781349\n",
      "le caractere vaut: c\n",
      "\n",
      "l'entier vaut: 2d\n",
      "l'entier vaut: 55\n",
      "\n",
      "le reel avec 2 decimales: 2.78\n"
     ]
    }
   ],
   "source": [
    "#include <stdio.h>\n",
    "\n",
    "int main() {\n",
    "    int entier = 45;\n",
    "    float reel = 2.78134864624;\n",
    "    char caractere = 'c';\n",
    "    \n",
    "    printf(\"l'entier vaut: %d, \", entier);\n",
    "    printf(\"le reel vaut: %f, \", reel);\n",
    "    printf(\"le caractere vaut: %c.\", caractere);\n",
    "    \n",
    "    printf(\"\\n\\nl'entier vaut: %d\\n\", entier); // meme chose avec sauts de ligne\n",
    "    printf(\"le reel vaut: %f\\n\", reel);\n",
    "    printf(\"le caractere vaut: %c\\n\\n\", caractere);\n",
    "    \n",
    "    printf(\"l'entier vaut: %x\\n\", entier); // hexadecimal\n",
    "    printf(\"l'entier vaut: %o\\n\\n\", entier); // octal\n",
    "    \n",
    "    printf(\"le reel avec 2 decimales: %0.2f\\n\", reel); // nombre de decimales\n",
    "}"
   ]
  },
  {
   "cell_type": "markdown",
   "metadata": {},
   "source": [
    "De la même manière qu'il est possible d'afficher à l'écran, on peut aussi lire des informations entrées par l'utilisateur. On utilise pour cela la fonction **```scanf```** présente dans la librairie ```stdio.h```.\n",
    "\n",
    "Cette fonction utilise la même syntaxe que ```printf```. On peut donc lire un entier dans la variable ```a```:\n",
    "\n",
    "```scanf(\"%d\", &a);```\n",
    "\n",
    "Il ne faut pas oublier de rajouter le ```&``` avant le nom de la variable, nous verrons pourquoi plus loin dans ce cours."
   ]
  },
  {
   "cell_type": "code",
   "execution_count": 1,
   "metadata": {},
   "outputs": [
    {
     "name": "stdout",
     "output_type": "stream",
     "text": [
      "entier = 32765"
     ]
    }
   ],
   "source": [
    "#include <stdio.h>\n",
    "\n",
    "int main() {\n",
    "    int entier;\n",
    "    scanf(\"%d\", &entier);\n",
    "    \n",
    "    printf(\"entier = %d\", entier);\n",
    "}"
   ]
  },
  {
   "cell_type": "markdown",
   "metadata": {},
   "source": [
    "##  <span style=\"color:red\">Exercice 4</span>\n",
    "\n",
    "**Exercice**:\n",
    "\n",
    "- Lire en entrée 3 entiers et calculer leur **moyenne**. Afficher le résultat avec une précision de **2 chiffres** après la virgule."
   ]
  },
  {
   "cell_type": "code",
   "execution_count": 19,
   "metadata": {},
   "outputs": [
    {
     "name": "stdout",
     "output_type": "stream",
     "text": [
      "Donnez 3 entiers:\n",
      "10 5 2\n",
      "La moyenne de ces trois entiers est: 5.67\n"
     ]
    }
   ],
   "source": [
    "#include <stdio.h>\n",
    "\n",
    "int main() {\n",
    "    /* ECRIRE LE CODE ICI */\n",
    "}"
   ]
  },
  {
   "cell_type": "markdown",
   "metadata": {},
   "source": [
    "##  <span style=\"color:red\">Exercice 5</span>\n",
    "\n",
    "**Exercice**:\n",
    "\n",
    "- Lire 2 réels ```r1``` et ```r2``` qui représentent les **rayons** de 2 **cercles concentriques**, et renvoie ensuite l'**aire** de la surface comprise entre les 2 cercles.\n",
    "\n",
    "Attention: ```r1``` peut être supérieur ou inférieur à ```r2```.\n",
    "\n",
    "<img src=\"ressources/cercle.jpg\" alt=\"cercle\" width=\"150\"/>\n",
    "\n",
    "La librairie ```<math.h>``` contient de nombreuses fonctions mathématiques, dont ```fabs``` qui permet de calculer la valeur absolue d'une variable.\n",
    "\n",
    "```C\n",
    "float a = fabs(-5); // a = 5.0\n",
    "```"
   ]
  },
  {
   "cell_type": "code",
   "execution_count": 21,
   "metadata": {},
   "outputs": [
    {
     "name": "stdout",
     "output_type": "stream",
     "text": [
      "Donnez les rayons des deux cercles:\n",
      "10.40 12.90\n",
      "L'aire de la surface entre les deux cercles est: 182.9050\n"
     ]
    }
   ],
   "source": [
    "#include <stdio.h>\n",
    "#include <math.h>\n",
    "\n",
    "int main() {\n",
    "    /* ECRIRE LE CODE ICI */\n",
    "}"
   ]
  }
 ],
 "metadata": {
  "kernelspec": {
   "display_name": "C",
   "language": "c",
   "name": "c"
  },
  "language_info": {
   "file_extension": ".c",
   "mimetype": "text/plain",
   "name": "c"
  }
 },
 "nbformat": 4,
 "nbformat_minor": 4
}
