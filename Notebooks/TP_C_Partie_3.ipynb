{
 "cells": [
  {
   "cell_type": "markdown",
   "metadata": {},
   "source": [
    "# <span style=\"color:green\">Cours de Programmation C</span>\n",
    "\n",
    "## <span style=\"color:blue\">Partie 3: *Tableaux et Chaines de caractères*</span>"
   ]
  },
  {
   "cell_type": "markdown",
   "metadata": {},
   "source": [
    "## Tableau\n",
    "\n",
    "Un tableau en C est une **variable** qui peut contenir plusieurs valeurs. On le définit de la même manière qu'une variable, plus des ```[]``` indiquant que l'on souhaite créer un tableau. La taille du tableau est indiqué à l'intérieur des ```[]```.\n",
    "\n",
    "```C\n",
    "int tab[5];\n",
    "```\n",
    "\n",
    "Le code ci dessus déclare un tableau nommé \"tab\" pouvant stocker jusqu'à 5 valeurs de type ```int```.\n",
    "\n",
    "Les cases d'un tableau utilisent ce que l'on apelle un **indice**. Un tableau de 5 cases sera indexé de **0 à 4**. On accède donc à la *première* valeur avec:\n",
    "\n",
    "```C\n",
    "tab[0];\n",
    "```\n",
    "\n",
    "et à la *dernière* avec:\n",
    "\n",
    "```C\n",
    "tab[4];\n",
    "```\n",
    "\n",
    "On peut ensuite **assigner une valeur** à une case du tableau en utilisant ces même indices:\n",
    "\n",
    "```C\n",
    "tab[0] = 1;\n",
    "```\n",
    "\n",
    "![alt text](../ressources/array.jpg)\n",
    "\n",
    "A part ces quelques subtilités, un tableau fonctionne de la même manière qu'une variable. On peut par exemple effectuer des opérations sur ses valeurs."
   ]
  },
  {
   "cell_type": "code",
   "execution_count": 2,
   "metadata": {},
   "outputs": [
    {
     "name": "stdout",
     "output_type": "stream",
     "text": [
      "tab2[0] = 20\n",
      "tab2[1] = 384\n"
     ]
    }
   ],
   "source": [
    "#include <stdio.h>\n",
    "\n",
    "int main() {\n",
    "    int tab[4];\n",
    "    tab[0] = 2;\n",
    "    tab[1] = 4;\n",
    "    tab[2] = 6;\n",
    "    tab[3] = 8;\n",
    "\n",
    "    int tab2[3]; // on declare un deuxième tableau\n",
    "    tab2[0] = tab[0] + tab[1] + tab[2] + tab[3]; // la première case contient la somme des cases du premier tableau\n",
    "    printf(\"tab2[0] = %d\\n\", tab2[0]);\n",
    "\n",
    "    tab2[1] = tab[0] * tab[1] * tab[2] * tab[3]; // la deuxième case contient le produit des cases du premier tableau\n",
    "    printf(\"tab2[1] = %d\\n\", tab2[1]);\n",
    "}"
   ]
  },
  {
   "cell_type": "markdown",
   "metadata": {},
   "source": [
    "### *Remarque:*\n",
    "\n",
    "Il est possible de déclarer et assigner des valeurs à un tableau en même temps en utilisant des `{}`:\n",
    "\n",
    "```C\n",
    "int tab[4] = {10, 5, 8, 26};\n",
    "```"
   ]
  },
  {
   "cell_type": "markdown",
   "metadata": {},
   "source": [
    "## Boucle de contrôles et tableaux\n",
    "\n",
    "Les boucles ```for``` sont particulièrement adaptées au fonctionnement des tableaux. Elle servent à parcourir tous les éléments 1 par 1 afin d'effectuer tout type d'opérations. Il suffit d'utiliser la variable de la boucle comme indice du tableau:"
   ]
  },
  {
   "cell_type": "code",
   "execution_count": 3,
   "metadata": {},
   "outputs": [
    {
     "name": "stdout",
     "output_type": "stream",
     "text": [
      "somme = 45"
     ]
    }
   ],
   "source": [
    "#include <stdio.h>\n",
    "\n",
    "int main() {\n",
    "    int tab[10] = {0, 1, 2, 3, 4, 5, 6, 7, 8, 9}; // initialisation du tableau\n",
    "    \n",
    "    int somme = 0;\n",
    "    for (int i = 0; i < 10; ++i) { // on calcul la somme du tableau avec une boucle for\n",
    "        somme = somme + tab[i];\n",
    "    }\n",
    "    printf(\"somme = %d\", somme);\n",
    "}"
   ]
  },
  {
   "cell_type": "markdown",
   "metadata": {},
   "source": [
    "## <span style=\"color:red\">Exercice 1</span>\n",
    "\n",
    "**Exercice:**\n",
    "\n",
    "- Lire un entier n, puis remplir un tableau de n éléments avec des entiers. Afficher le tableau, puis calculer le max, et le min de ses éléments.\n",
    "\n",
    "Remrque: la librairie `<limits.h>` donne accès à la valeur maximale et minimale des types en C (`INT_MAX` et `INT_MIN` pour les `int`)."
   ]
  },
  {
   "cell_type": "code",
   "execution_count": 24,
   "metadata": {},
   "outputs": [
    {
     "name": "stdout",
     "output_type": "stream",
     "text": [
      "rentrer la taille du tableau\n",
      "4\n",
      "donner un entier pour la case 0 du tableau\n",
      "83\n",
      "donner un entier pour la case 1 du tableau\n",
      "86\n",
      "donner un entier pour la case 2 du tableau\n",
      "77\n",
      "donner un entier pour la case 3 du tableau\n",
      "15\n",
      "tab[0] = 83\n",
      "tab[1] = 86\n",
      "tab[2] = 77\n",
      "tab[3] = 15\n",
      "min = 15\n",
      "max = 86\n"
     ]
    }
   ],
   "source": [
    "#include <stdio.h>\n",
    "#include <limits.h> // donne accès à INT_MAX et INT_MIN\n",
    "\n",
    "int main() {\n",
    "    int n;\n",
    "    printf(\"rentrer la taille du tableau\\n\");\n",
    "    scanf(\"%d\", &n);\n",
    "\n",
    "    int tab[n];\n",
    "    for (int i = 0; i < n; i++) {\n",
    "        printf(\"donner un entier pour la case %d du tableau\\n\", i);\n",
    "        scanf(\"%d\", &tab[i]); // remplissage du tableau avec des entiers donnés par l'utilisateur\n",
    "    }\n",
    "    \n",
    "    /* ECRIRE LE CODE ICI */\n",
    "}"
   ]
  },
  {
   "cell_type": "markdown",
   "metadata": {},
   "source": [
    "## <span style=\"color:red\">Exercice 2</span>\n",
    "\n",
    "**Exercice:**\n",
    "\n",
    "- Lire un entier n, puis n autres entiers inférieurs à 100 dans un tableau. Afficher le nombre d'occurrences de chaque élément du tableau de la façon suivante:\n",
    "\n",
    "Si le tableau est: 1 2 5 2 1 2, on affiche:\n",
    "\n",
    "1 est répété 2 fois.\n",
    "\n",
    "2 est répété 3 fois.\n",
    "\n",
    "5 est répété 1 fois.\n",
    "\n",
    "Pas nécessairement dans un ordre précis, mais chaque élément ne doit être cité qu’une seule fois."
   ]
  },
  {
   "cell_type": "code",
   "execution_count": 28,
   "metadata": {},
   "outputs": [
    {
     "name": "stdout",
     "output_type": "stream",
     "text": [
      "rentrer la taille du tableau\n",
      "10\n",
      "tab[0] = 69\n",
      "tab[1] = 42\n",
      "tab[2] = 78\n",
      "tab[3] = 78\n",
      "tab[4] = 70\n",
      "tab[5] = 39\n",
      "tab[6] = 49\n",
      "tab[7] = 39\n",
      "tab[8] = 66\n",
      "tab[9] = 58\n",
      "39 est répété 2 fois\n",
      "42 est répété 1 fois\n",
      "49 est répété 1 fois\n",
      "58 est répété 1 fois\n",
      "66 est répété 1 fois\n",
      "69 est répété 1 fois\n",
      "70 est répété 1 fois\n",
      "78 est répété 2 fois\n"
     ]
    }
   ],
   "source": [
    "#include <stdio.h>\n",
    "\n",
    "int main() {\n",
    "    /* ECRIRE LE CODE ICI */\n",
    "}"
   ]
  },
  {
   "cell_type": "markdown",
   "metadata": {},
   "source": [
    "## Tableau à plusieurs dimensions\n",
    "\n",
    "Nous avons abordé les tableau à **1 dimension** (aussi appelé **vector**), mais il est possible de déclarer des tableaux à **dimensions multiples** (que l'on réfère comme **matrice**).\n",
    "\n",
    "```C\n",
    "int tab[2][2] = {{7, 5}, {15, 3}}; // déclare un tableau à 2 dimensions\n",
    "```\n",
    "\n",
    "On accède à un tableau à 2 dimensions de la même manière qu'un tableau à 1 dimension, mais en utilisant 2 indices au lieu d'un:\n",
    "\n",
    "```C\n",
    "tab[0][0] = 20;\n",
    "```\n",
    "\n",
    "Un tableau à 2 dimensions peut se représenter comme un arrangement de cases en lignes et colonnes.\n",
    "\n",
    "![alt text](../ressources/array2.gif)\n",
    "\n",
    "Une 3eme dimension rajouterait de la profondeur (un genre de cube). Il est possible de déclarer des tableau avec autant de dimensions que l'on souhaite, mais au delà de 3, il devient difficile de se répresenter la forme du tableau."
   ]
  },
  {
   "cell_type": "markdown",
   "metadata": {},
   "source": [
    "## <span style=\"color:red\">Exercice 3</span>\n",
    "\n",
    "**Exercice:**\n",
    "- Construire la table de multiplication des entiers entre 1 et 9 puis l'afficher.\n",
    "\n",
    "Utiliser un tableau à 2 dimensions pour stocker les tables de multiplications."
   ]
  },
  {
   "cell_type": "code",
   "execution_count": 45,
   "metadata": {},
   "outputs": [
    {
     "name": "stdout",
     "output_type": "stream",
     "text": [
      "table de multiplication de 1\n",
      "1 * 1 = 1\n",
      "1 * 2 = 2\n",
      "1 * 3 = 3\n",
      "1 * 4 = 4\n",
      "1 * 5 = 5\n",
      "1 * 6 = 6\n",
      "1 * 7 = 7\n",
      "1 * 8 = 8\n",
      "1 * 9 = 9\n",
      "table de multiplication de 2\n",
      "2 * 1 = 2\n",
      "2 * 2 = 4\n",
      "2 * 3 = 6\n",
      "2 * 4 = 8\n",
      "2 * 5 = 10\n",
      "2 * 6 = 12\n",
      "2 * 7 = 14\n",
      "2 * 8 = 16\n",
      "2 * 9 = 18\n",
      "table de multiplication de 3\n",
      "3 * 1 = 3\n",
      "3 * 2 = 6\n",
      "3 * 3 = 9\n",
      "3 * 4 = 12\n",
      "3 * 5 = 15\n",
      "3 * 6 = 18\n",
      "3 * 7 = 21\n",
      "3 * 8 = 24\n",
      "3 * 9 = 27\n",
      "table de multiplication de 4\n",
      "4 * 1 = 4\n",
      "4 * 2 = 8\n",
      "4 * 3 = 12\n",
      "4 * 4 = 16\n",
      "4 * 5 = 20\n",
      "4 * 6 = 24\n",
      "4 * 7 = 28\n",
      "4 * 8 = 32\n",
      "4 * 9 = 36\n",
      "table de multiplication de 5\n",
      "5 * 1 = 5\n",
      "5 * 2 = 10\n",
      "5 * 3 = 15\n",
      "5 * 4 = 20\n",
      "5 * 5 = 25\n",
      "5 * 6 = 30\n",
      "5 * 7 = 35\n",
      "5 * 8 = 40\n",
      "5 * 9 = 45\n",
      "table de multiplication de 6\n",
      "6 * 1 = 6\n",
      "6 * 2 = 12\n",
      "6 * 3 = 18\n",
      "6 * 4 = 24\n",
      "6 * 5 = 30\n",
      "6 * 6 = 36\n",
      "6 * 7 = 42\n",
      "6 * 8 = 48\n",
      "6 * 9 = 54\n",
      "table de multiplication de 7\n",
      "7 * 1 = 7\n",
      "7 * 2 = 14\n",
      "7 * 3 = 21\n",
      "7 * 4 = 28\n",
      "7 * 5 = 35\n",
      "7 * 6 = 42\n",
      "7 * 7 = 49\n",
      "7 * 8 = 56\n",
      "7 * 9 = 63\n",
      "table de multiplication de 8\n",
      "8 * 1 = 8\n",
      "8 * 2 = 16\n",
      "8 * 3 = 24\n",
      "8 * 4 = 32\n",
      "8 * 5 = 40\n",
      "8 * 6 = 48\n",
      "8 * 7 = 56\n",
      "8 * 8 = 64\n",
      "8 * 9 = 72\n",
      "table de multiplication de 9\n",
      "9 * 1 = 9\n",
      "9 * 2 = 18\n",
      "9 * 3 = 27\n",
      "9 * 4 = 36\n",
      "9 * 5 = 45\n",
      "9 * 6 = 54\n",
      "9 * 7 = 63\n",
      "9 * 8 = 72\n",
      "9 * 9 = 81\n"
     ]
    }
   ],
   "source": [
    "#include <stdio.h>\n",
    "\n",
    "int main() {\n",
    "    int table[9][9];\n",
    "    \n",
    "    /* ECRIRE LE CODE ICI */\n",
    "}"
   ]
  },
  {
   "cell_type": "markdown",
   "metadata": {},
   "source": [
    "## Chaînes de caractères\n",
    "\n",
    "Une **chaînes de caractères** est une suite ordonnée de caractères permettant de stocker et afficher des mots, phrases et plus. Nous les utilisons depuis le début sans y faire attention, tel que ```\"Hello World!\"``` ou tout autre phrase entre ```\"\"```. On initialise une chaînes de caractères avec:\n",
    "\n",
    "```C\n",
    "char chaine[] = \"du texte\";\n",
    "```\n",
    "\n",
    "On remarque l'utilisation des ```[]``` comme pour un tableau. C'est parce qu'une chaînes de caractère n'est rien d'autre qu'un **tableau de caractères**. Ici, le nombre d'éléments du tableau n'est pas indiqué, il est donc automatiquement calculé lors de l'initialisation de la chaînes.\n",
    "\n",
    "On aurait pu écrire:\n",
    "\n",
    "```C\n",
    "char chaine[9] = \"du texte\"; // \"du texte\" contient 9 caracteres (8 + 1 caractere indiquant la fin de la chaine)\n",
    "```\n",
    "\n",
    "On peut afficher une chaînes de caractères de la même manière qu'on affiche tout autre variable, avec le mot clé ```%s``` (pour **string** en anglais):"
   ]
  },
  {
   "cell_type": "code",
   "execution_count": 4,
   "metadata": {},
   "outputs": [
    {
     "name": "stdout",
     "output_type": "stream",
     "text": [
      "chaine = du texte"
     ]
    }
   ],
   "source": [
    "#include <stdio.h>\n",
    "\n",
    "int main() {\n",
    "    char chaine[] = \"du texte\";\n",
    "    printf(\"chaine = %s\", chaine);\n",
    "}"
   ]
  },
  {
   "cell_type": "markdown",
   "metadata": {},
   "source": [
    "Etant donné qu'une chaînes de caractères est un tableau, il est possible d'utiliser les mêmes méthodes que ces derniers pour modifier la chaînes."
   ]
  },
  {
   "cell_type": "code",
   "execution_count": 14,
   "metadata": {},
   "outputs": [
    {
     "name": "stdout",
     "output_type": "stream",
     "text": [
      "chaine = du tezte\n",
      "chaine = ev!uf{uf\u0001\n"
     ]
    }
   ],
   "source": [
    "#include <stdio.h>\n",
    "\n",
    "int main() {\n",
    "    char chaine[] = \"du texte\";\n",
    "    chaine[5] = 'z';\n",
    "    printf(\"chaine = %s\\n\", chaine);\n",
    "    \n",
    "    for (int i = 0; i < 9; i++) {\n",
    "        chaine[i] = chaine[i] + 1;\n",
    "    }\n",
    "    printf(\"chaine = %s\\n\", chaine);\n",
    "}"
   ]
  },
  {
   "cell_type": "markdown",
   "metadata": {},
   "source": [
    "**Attention**: il faut utiliser les ```''``` simples pour les caracteres, les ```\"\"``` doubles pour les chaînes de caractères."
   ]
  },
  {
   "cell_type": "markdown",
   "metadata": {},
   "source": [
    "## <span style=\"color:red\">Exercice 4</span>\n",
    "\n",
    "**Exercice:**\n",
    "\n",
    "- Lire une chaîne de caractères et vérifier si elle est un palindrome ou non. On rappelle qu'un palindrome se lit de la même manière dans les deux sens.\n",
    "\n",
    "Exemple: \"non\", \"touot\" et \"1234321\" sont toutes des chaînes de caractères palindromes."
   ]
  },
  {
   "cell_type": "code",
   "execution_count": 34,
   "metadata": {},
   "outputs": [
    {
     "name": "stdout",
     "output_type": "stream",
     "text": [
      "Rentrer une chaine de caracteres\n",
      "non\n",
      "non est un palyndrome\n"
     ]
    }
   ],
   "source": [
    "#include <stdio.h>\n",
    "#include <string.h> // charge des fonctions utiles pour manipuler des chaines de caracteres (tel que strlen)\n",
    "\n",
    "int main() {\n",
    "    char chaine[100]; // on déclare une chaine de 100 caractère car on ne connait pas sa taille à l'avance\n",
    "    printf(\"Rentrer une chaine de caracteres\\n\");\n",
    "    scanf(\"%s\", chaine);\n",
    "    \n",
    "    int longeur = strlen(chaine); // retourne la taille de la chaine de caractere (attention au caractere de fin de chaine)\n",
    "    \n",
    "    /* ECRIRE LE CODE ICI */\n",
    "}"
   ]
  },
  {
   "cell_type": "markdown",
   "metadata": {},
   "source": [
    "## <span style=\"color:red\">Exercice 5</span>\n",
    "\n",
    "**Exercice:**\n",
    "\n",
    "- Lire deux chaînes de caractères et vérifier si la deuxième est une sous chaîne de la première ou non.\n",
    "\n",
    "Exemple: \"tout\" est une sous chaîne de \"surtout\"."
   ]
  },
  {
   "cell_type": "code",
   "execution_count": 37,
   "metadata": {},
   "outputs": [
    {
     "name": "stdout",
     "output_type": "stream",
     "text": [
      "Rentrer une premiere chaine de caracteres\n",
      "touto\n",
      "Rentrer une deuxieme chaine de caracteres\n",
      "surtout\n",
      "touto n'est pas une sous chaine de surtout\n"
     ]
    }
   ],
   "source": [
    "#include <stdio.h>\n",
    "#include <string.h>\n",
    "\n",
    "int main() {\n",
    "    char chaine1[100];\n",
    "    char chaine2[100];\n",
    "    printf(\"Rentrer une premiere chaine de caracteres\\n\");\n",
    "    scanf(\"%s\", chaine1);\n",
    "    printf(\"Rentrer une deuxieme chaine de caracteres\\n\");\n",
    "    scanf(\"%s\", chaine2);\n",
    "    \n",
    "    int longueur1 = strlen(chaine1);\n",
    "    int longueur2 = strlen(chaine2);\n",
    "    \n",
    "    /* ECRIRE LE CODE ICI */\n",
    "}"
   ]
  }
 ],
 "metadata": {
  "kernelspec": {
   "display_name": "C",
   "language": "c",
   "name": "c"
  },
  "language_info": {
   "file_extension": ".c",
   "mimetype": "text/plain",
   "name": "c"
  }
 },
 "nbformat": 4,
 "nbformat_minor": 4
}
