{
 "cells": [
  {
   "cell_type": "markdown",
   "metadata": {},
   "source": [
    "# <span style=\"color:green\">Cours de Programmation C</span>\n",
    "\n",
    "## <span style=\"color:blue\">Partie 4: *Fonctions et Structures*</span>"
   ]
  },
  {
   "cell_type": "markdown",
   "metadata": {},
   "source": [
    "## Déclaration d'une fonction\n",
    "\n",
    "Une fonction est un regroupement de code répétable destiné à effectuer une action précise. Une fonction en C peut prendre **plusieurs entrées** mais possède **une seule sortie**. Une fonction en code est assez similaire a une fonction mathématique en un sens. Prenons par exemple:\n",
    "\n",
    "```C\n",
    "int addition(int a, int b) {\n",
    "    return a + b;\n",
    "}\n",
    "```\n",
    "\n",
    "Cette fonction permet de calculer l'addition entre 2 variables `a` et `b`. Elle suit une syntaxe bien précise:\n",
    "\n",
    "- Elle commence par le **type de sortie** de la fonction (ici `int`).\n",
    "- Vient ensuite le **nom de la fonction**. Il est important de choisir des noms explicites afin que l'on puisse facilement comprendre l'action effectuée par la fonction.\n",
    "- Entre les `()`, on définit les **variables d'entrée**, en précisant bien leurs **types**. Il n'y a pas de lmimites au nombre de variables en entrées.\n",
    "- Enfin, le mot-clé `return` permet de **sortir de la fonction en renvoyant une valeur**. Le type de la valeur en sortie doit correspondre au type précisé au début de la fonction.\n",
    "\n",
    "### *Remarque:*\n",
    "\n",
    "Le mot-clé `return` arrête la fonction même s'il reste des instructions en dessous. Cela peut être utilisé afin de sortir de la fonction prématurément lorsqu'un condition est vérifiée:\n",
    "\n",
    "```C\n",
    "int division(int a, int b) {\n",
    "    if (b == 0) { // division non défini dans ce cas\n",
    "        return 0; // on sort de la fonction en renvoyant 0\n",
    "    }\n",
    "    return a / b; // si b différent de 0, on renvoi le résultat de la division\n",
    "}\n",
    "```\n",
    "\n",
    "Dans l'exemple ci dessus, un `else` n'est pas nécessaire car le `return 0;` sort de la fonction sans exécuter les lignes suivantes.\n",
    "\n",
    "## Utilisation d'une fonction\n",
    "\n",
    "Une fois la fonction déclarée (généralement au dessus du `main`), il est possible de l'utiliser dans notre programme. Une fonction peut être utilisée dans le `main` mais aussi à l'intérieur d'une autre fonction."
   ]
  },
  {
   "cell_type": "code",
   "execution_count": 1,
   "metadata": {},
   "outputs": [
    {
     "name": "stdout",
     "output_type": "stream",
     "text": [
      "x = 6.000000, x au carre = 36.000000"
     ]
    }
   ],
   "source": [
    "#include <stdio.h>\n",
    "\n",
    "float carre(float x) {\n",
    "    return x * x;\n",
    "}\n",
    "\n",
    "int main() {\n",
    "    float x = 6;\n",
    "    float x2;\n",
    "    \n",
    "    x2 = carre(x); // on appelle la fonction carre et stocke le resultat dans x2\n",
    "    printf(\"x = %f, x au carre = %f\", x, x2);\n",
    "}"
   ]
  },
  {
   "cell_type": "markdown",
   "metadata": {},
   "source": [
    "### *Remarque:*\n",
    "\n",
    "- Nous avons déjà utilisé des fonctions implictement dans les cours précédents. Les bibliothèques tels que `stdio.h`, `math.h` et `string.h`... contiennent en fait des **déclarations** de nombreuses fonctions en lien avec un sujet en particulier.\n",
    "\n",
    "`printf`, `scanf`, `fabs` et `strlen` sont des exemples de fonctions que nous avons utilisé.\n",
    "\n",
    "Définir ses propres fonctions est très utile. Cela permet de **mieux organiser** son programme et d'**éviter de répéter du code** dans certaines situations... Au fur est à mesure qu'un programme grandit, on crée de nouvelles fonctions permettant de réaliser des nouvelles actions bien particulières. Cela permet de garder un code cohérent, et de ne pas se perdre dans des codes trop longs.\n",
    "\n",
    "- Le `main` que nous utilisons depuis le début n'est rien d'autre qu'une fonction un peu spéciale. D'ailleurs, une bonne pratique est d'utiliser `return 0` à la fin du `main` pour annoncer que le programme s'est bien déroulé. (Nous le ferons désormais).\n",
    "\n",
    "## Portée d'une variable\n",
    "\n",
    "Avec l'introduction des fonctions, il faut bien faire attention aux variables que l'on déclare et à leurs **portée** (*scope* en anglais)."
   ]
  },
  {
   "cell_type": "code",
   "execution_count": 4,
   "metadata": {},
   "outputs": [
    {
     "name": "stdout",
     "output_type": "stream",
     "text": [
      "moyenne = 1.000000"
     ]
    }
   ],
   "source": [
    "#include <stdio.h>\n",
    "\n",
    "int a;\n",
    "\n",
    "float moyenneTableau(int tailleTab, int tab[]) {\n",
    "    float moy;\n",
    "    for (int i = 0; i < tailleTab; i++) {\n",
    "        moy += tab[i];\n",
    "    }\n",
    "    moy /= tailleTab;\n",
    "    return moy;\n",
    "}\n",
    "\n",
    "int main() {\n",
    "    int tableau[] = {0, 1, 2};\n",
    "    float moyenne;\n",
    "    \n",
    "    moyenne = moyenneTableau(3, tableau);\n",
    "    \n",
    "    printf(\"moyenne = %f\", moyenne);\n",
    "    return 0;\n",
    "}"
   ]
  },
  {
   "cell_type": "markdown",
   "metadata": {},
   "source": [
    "Ci dessus, On a déclaré plusieurs variables de portées différentes.\n",
    "\n",
    "- La variable `i` a une portée de **bloc**, c'est à dire qu'elle commence à l'ouverture d'un bloc, définit par `{`, et se termine à la fermeture de ce bloc, définit par `}`. La variable `i` ,'est donc utilisable **qu'à l'intérieur** de la boucle `for`, mais pas ailleurs.\n",
    "\n",
    "- Les variables `tailleTab`, `tab` et `moy` ont une portée de **fonction**. Elles sont créés lorsque la fonction est appellée, puis détruites lorsque l'on sort de la fonction.\n",
    "\n",
    "- Les variables `tableau` et `moyenne` ont aussi une portée de **fonction**. Elles seront détruites à la fin du `main`.\n",
    "\n",
    "- La variable `a` a une portée **globale**. Elle peut être utilisée n'importe ou dans le programme. On la déclare en dehors d'une fonction. Il faut si possible **éviter** d'utiliser ces variables car elles compliquent la **comphréension** du code.\n",
    "\n",
    "**Attention**: Modifier une variable de portée de **fonction** ne sera effectif que dans la fonction:"
   ]
  },
  {
   "cell_type": "code",
   "execution_count": 9,
   "metadata": {},
   "outputs": [
    {
     "name": "stdout",
     "output_type": "stream",
     "text": [
      "var = 1\n",
      "var = 1\n"
     ]
    }
   ],
   "source": [
    "#include <stdio.h>\n",
    "\n",
    "void modifierVar(int var) {\n",
    "    var++;\n",
    "}\n",
    "\n",
    "int main() {\n",
    "    int var = 1;\n",
    "    \n",
    "    printf(\"var = %d\\n\", var);\n",
    "    modifierVar(var);\n",
    "    printf(\"var = %d\\n\", var);\n",
    "    return 0;\n",
    "}"
   ]
  },
  {
   "cell_type": "markdown",
   "metadata": {},
   "source": [
    "Ci dessus, il existe 2 variables `var`, qui ont le **même nom** mais restent des **entitées différentes**. La variable `var` déclarée dans le `main`, et celle déclarée dans la fonction `modifierVar`. Ajouter 1 à la variable de la fonction `modifierVar` n'a aucun effet sur celle du `main`.\n",
    "\n",
    " On appelle cela un **passage par valeur**, ce qui signifie que la variable en entrée est **copiée** dans la fontion et n'a donc plus aucun lien avec cette dernière. \n",
    "\n",
    "Nous verrons plus tard qu'il est possible d'effectuer un **passage par pointeur**, qui lui permet de garder le lien entre les variables, sans effectuer de copie."
   ]
  },
  {
   "cell_type": "markdown",
   "metadata": {},
   "source": [
    "##  <span style=\"color:red\">Exercice 1</span>\n",
    "\n",
    "**Exercice**:\n",
    "\n",
    "- Déterminer le max de quatre entiers à l'aide d'une fonction max_4, et qui doit utiliser une autre fonction max_2 qui trouve le max de deux entiers."
   ]
  },
  {
   "cell_type": "code",
   "execution_count": 8,
   "metadata": {},
   "outputs": [
    {
     "name": "stdout",
     "output_type": "stream",
     "text": [
      "Entrer 4 entiers\n",
      "7 26 15 3\n",
      "maximum (7, 26, 15, 3) = 26\n"
     ]
    }
   ],
   "source": [
    "#include <stdio.h>\n",
    "\n",
    "/* ECRIRE LE CODE ICI */\n",
    "\n",
    "int main() {\n",
    "    int a, b, c, d, max;\n",
    "    printf(\"Entrer 4 entiers\\n\");\n",
    "    scanf(\"%d%d%d%d\", &a, &b, &c, &d);\n",
    "    printf(\"%d %d %d %d\\n\", a = 7, b = 26, c = 15, d = 3);\n",
    "    \n",
    "    /* ECRIRE LE CODE ICI */\n",
    "\n",
    "    printf(\"maximum (%d, %d, %d, %d) = %d\\n\", a, b, c, d, max);\n",
    "}"
   ]
  },
  {
   "cell_type": "markdown",
   "metadata": {},
   "source": [
    "## Récursivité\n",
    "\n",
    "En C, une fonction peut s'apeller elle même. C'est à dire qu'il est possible d'**utiliser une fonction à l'intérieur de la définition de cette même fonction**. Cela va entrainer une chaine d'appel de la fonction, qu'il est nécessaire d'arrêter à l'aide d'une **condition limite** (autrement le programme va tourner à l'infini).\n",
    "\n",
    "La récursivité est une pratique permettant de résoudre certains problèmes mathématiques qui seraient difficiles voir impossible à résoudre autrement."
   ]
  },
  {
   "cell_type": "code",
   "execution_count": 4,
   "metadata": {},
   "outputs": [
    {
     "name": "stdout",
     "output_type": "stream",
     "text": [
      "5! = 120"
     ]
    }
   ],
   "source": [
    "#include <stdio.h>\n",
    "\n",
    "int factoriel(int n) {\n",
    "    if (n == 0) {\n",
    "        return 1;\n",
    "    } else {\n",
    "        return n * factoriel(n-1);\n",
    "    }\n",
    "}\n",
    "\n",
    "int main() {\n",
    "    int n = 5;\n",
    "    \n",
    "    printf(\"5! = %d\", factoriel(n));\n",
    "    return 0;\n",
    "}"
   ]
  },
  {
   "cell_type": "markdown",
   "metadata": {},
   "source": [
    "La fonction `factoriel` est ici une fonction récursive (*rappel*: 5 factoriel `5! = 5 * 4 * 3 * 2 * 1 = 120`) . A chaque itération, elle se rappelle elle même en décrémentant `n` de 1. La fonction ne retourne un résultat que lorsque un des appels récursif rentre dans la condition limite définit dans le `if`.\n",
    "\n",
    "La **condition limite** est le moment ou il n'est plus nécessaire de calculer d'autres termes de la fonction. Or lorsque `n` vaut `0`, on ne peut plus le décrémenter et on retourne donc la définition du factoriel de 0: `0! = 1`."
   ]
  },
  {
   "cell_type": "markdown",
   "metadata": {},
   "source": [
    "##  <span style=\"color:red\">Exercice 2</span>\n",
    "\n",
    "**Exercice**:\n",
    "\n",
    "- Créer une fonction **récursive** `fibonacci` qui calcule le nième terme de la suite de Fibonacci.\n",
    "\n",
    "Rappel: La suite de Fibonacci est définie comme: ```Un = Un-1 + Un-2``` avec ```U1 = U0 = 1```.\n",
    "\n",
    "**Attention:** Il y a 2 conditions limites (`U1` et `U0`)."
   ]
  },
  {
   "cell_type": "code",
   "execution_count": 7,
   "metadata": {},
   "outputs": [
    {
     "name": "stdout",
     "output_type": "stream",
     "text": [
      "Rentrer un nombre\n",
      "8\n",
      "fibonacci(8) = 21"
     ]
    }
   ],
   "source": [
    "#include <stdio.h>\n",
    "\n",
    "/* ECRIRE LE CODE ICI */\n",
    "\n",
    "int main() {\n",
    "    int n;\n",
    "    printf(\"Rentrer un nombre\\n\");\n",
    "    scanf(\"%d\", &n);\n",
    "    \n",
    "    printf(\"fibonacci(%d) = %d\", n, fibonacci(n));\n",
    "    return 0;\n",
    "}"
   ]
  },
  {
   "cell_type": "markdown",
   "metadata": {},
   "source": [
    "## Structures\n",
    "\n",
    "Une **structure** est une variable un peu particulière qui peut contenir plusieurs autres variables. Elles sont souvent utilisées afin de regrouper des informations similaires ensemble. Elles ajoutent de la structure au code (d'où leur nom).\n",
    "\n",
    "Le C n'est pas un langage dit **Objet**, cependant une structure permet de s'approcher en partie de ce **paradigme de programmation**. Par exemple:\n",
    "\n",
    "```C\n",
    "struct Point2D {\n",
    "    float x;\n",
    "    float y;\n",
    "}; // ne pas oublier le point virgule\n",
    "```\n",
    "\n",
    "permet de définir une structure s'apparentant à un point en 2 dimensions. Un point en géométrie est défini par ses coordonnées (*x* et *y* en 2D). Créer la structure `Point2D` permet de rassembler les composantes d'un point dans **une seule variable**, ce qui simplifie la compréhension et permet de mieux structurer le code.\n",
    "\n",
    "### Utilisation\n",
    "\n",
    "Une fois la structure définit, on peut l'utiliser comme n'importe quel type dans un programme. Il faut juste rajouter le mot-clé `struct` devant le nom de la structure.\n",
    "\n",
    "```C\n",
    "    struct Point2D point;\n",
    "```\n",
    "\n",
    "Une fois la variable déclarée, on accède aux variables intérieurs à la structure avec un `.`:\n",
    "\n",
    "```C\n",
    "    point.x = 5;\n",
    "    point.y = 7;\n",
    "```\n",
    "\n",
    "### *Remarques:*\n",
    "\n",
    "- On peut initialiser une structure directement à la déclaration de la même manière qu'un tableau:\n",
    "\n",
    "```C\n",
    "    struct Point2D point = {5, 7};\n",
    "```\n",
    "\n",
    "- On peut éviter d'avoir à utiliser le mot-clé `struct` à chaque fois que l'on déclare une structure en utilisant un alias (`typedef`). \n",
    "\n",
    "Un alias permet d'associer des mot-clés afin de les raccourcirs. Ainsi, si on écrit:\n",
    "\n",
    "```C\n",
    "typedef struct Point2D Point2D;\n",
    "```\n",
    "\n",
    "on associe `struct Point2D` à `Point2D`. Donc lorsque l'on écrit `Point2D`, on écrit en fait réellement `struct Point2D`. On peut désormais utiliser la structure de la manière suivante:\n",
    "\n",
    "```C\n",
    "    Point2D point = {5, 7};\n",
    "```\n",
    "\n",
    "- Une structure peut contenir n'importe quel type de variables, même des tableaux, des chaînes de caractères ou d'autres structures."
   ]
  },
  {
   "cell_type": "code",
   "execution_count": 13,
   "metadata": {},
   "outputs": [
    {
     "name": "stdout",
     "output_type": "stream",
     "text": [
      "Bonjour, je m'appelle Thomas, j'ai 24 ans et je vis près de (45.777199 °N, 3.087000 °E)."
     ]
    }
   ],
   "source": [
    "#include <stdio.h>\n",
    "\n",
    "typedef struct Point2D Point2D;\n",
    "struct Point2D {\n",
    "    float x;\n",
    "    float y;\n",
    "};\n",
    "\n",
    "typedef struct Personne Personne;\n",
    "struct Personne {\n",
    "    char prenom[100];\n",
    "    int age;\n",
    "    Point2D adresse; // variable adresse de type point2D (peut contenir une coordonnée GPS par exemple)\n",
    "};\n",
    "\n",
    "int main() {\n",
    "    struct Personne moi = {\"Thomas\", 24}; // on declare le nom et l'age à l'initialisation de la structure\n",
    "    moi.adresse.x = 45.7772; // puis on rentre l'adresse en accedant a la structure Point2D\n",
    "    moi.adresse.y = 3.0870;\n",
    "    \n",
    "    printf(\"Bonjour, je m'appelle %s, j'ai %d ans et je vis près de (%f °N, %f °E).\", moi.prenom, moi.age, moi.adresse.x, moi.adresse.y);\n",
    "    return 0;\n",
    "}"
   ]
  },
  {
   "cell_type": "markdown",
   "metadata": {},
   "source": [
    "##  <span style=\"color:red\">Exercice 3</span>\n",
    "\n",
    "**Exercice**:\n",
    "\n",
    "- Créer une structure `Point3D` qui définit un point en **3 dimensions**, puis écrire une fonction `distance3D` qui donne la distance euclidienne entre 2 points.\n",
    "\n",
    "Rappel: La distance euclidienne d'un point en 3 dimension est `racine((x2 - x1)² + (y2 - y1)² + (z2 - z1)²)`.\n",
    "\n",
    "### Remarque:\n",
    "\n",
    "- Il est nécessaire d'utiliser les fonctions `sqrt(float x)` et `pow(float x, float power)` pour calculer la distance euclidienne, présentes dans la librairie `math.h`.\n",
    "\n",
    "- Pour utiliser la librairie `math.h`, il faut compiler en rajoutant l'option `-lm` (qui permet de **lier** la librairie au programme):\n",
    "\n",
    "ex: `gcc ex3.c -o exo3 -lm`"
   ]
  },
  {
   "cell_type": "code",
   "execution_count": 15,
   "metadata": {},
   "outputs": [
    {
     "name": "stdout",
     "output_type": "stream",
     "text": [
      "La distance entre les points est de 10.488088"
     ]
    }
   ],
   "source": [
    "#include <stdio.h>\n",
    "#include <math.h> // permet d'utiliser sqrt et pow\n",
    "\n",
    "/* ECRIRE LE CODE ICI */\n",
    "\n",
    "int main() {\n",
    "    Point3D point1 = {10, 5, 7}, point2 = {5, 14, 9};\n",
    "    \n",
    "    printf(\"La distance entre les points est de %f\", distance3D(point1, point2));\n",
    "    return 0;\n",
    "}"
   ]
  },
  {
   "cell_type": "markdown",
   "metadata": {},
   "source": [
    "##  <span style=\"color:red\">Exercice 4</span>\n",
    "\n",
    "**Exercice**:\n",
    "\n",
    "- Définir une structure `Etudiant` où un étudiant est représenté par son nom, son prénom et une note. Lit ensuite un tableau d'étudiants entrée par l'utilisateur et affiche les noms de tous les étudiants ayant une note supérieure ou égale à 10 sur 20.\n",
    "\n",
    "**Attention**: On utilisera `scanf(\"%s\", etudiants[i].nom)` et `scanf(\"%s\", etudiants[i].prenom)` sans `&` pour rentrer le nom et prénom d'un étudiant. C'est une spécificité liée au `scanf` et au chaînes de caractères/tableaux. "
   ]
  },
  {
   "cell_type": "code",
   "execution_count": 59,
   "metadata": {},
   "outputs": [
    {
     "name": "stdout",
     "output_type": "stream",
     "text": [
      "Entrer le nombre d'etudiants\n",
      "4\n",
      "Entrer le nom, prenom et note de l'etudiant\n",
      "Djadja Henry 3\n",
      "Entrer le nom, prenom et note de l'etudiant\n",
      "De la Rue Marjorie 6\n",
      "Entrer le nom, prenom et note de l'etudiant\n",
      "Vald Timothe 17\n",
      "Entrer le nom, prenom et note de l'etudiant\n",
      "Conombre Cecile 15\n",
      "Vald Timothe a eu 17\n",
      "Conombre Cecile a eu 15\n"
     ]
    }
   ],
   "source": [
    "#include <stdio.h>\n",
    "\n",
    "/* ECRIRE LE CODE ICI */\n",
    "\n",
    "int main() {\n",
    "    Etudiant etudiants[100];\n",
    "    int n;\n",
    "    \n",
    "    printf(\"Entrer le nombre d'etudiants\\n\");\n",
    "    scanf(\"%d\", &n);\n",
    "    \n",
    "    /* ECRIRE LE CODE ICI */\n",
    "    \n",
    "    return 0;\n",
    "}"
   ]
  }
 ],
 "metadata": {
  "kernelspec": {
   "display_name": "C",
   "language": "c",
   "name": "c"
  },
  "language_info": {
   "file_extension": ".c",
   "mimetype": "text/plain",
   "name": "c"
  }
 },
 "nbformat": 4,
 "nbformat_minor": 2
}
