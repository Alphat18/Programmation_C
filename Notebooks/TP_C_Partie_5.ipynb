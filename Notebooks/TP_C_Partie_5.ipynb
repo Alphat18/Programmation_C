{
 "cells": [
  {
   "cell_type": "markdown",
   "metadata": {},
   "source": [
    "# <span style=\"color:green\">Cours de Programmation C</span>\n",
    "\n",
    "## <span style=\"color:blue\">Partie 5: *Pointeurs*</span>"
   ]
  },
  {
   "cell_type": "markdown",
   "metadata": {},
   "source": [
    "## Adresse mémoire\n",
    "\n",
    "Il est important de bien comprendre la manière dont les valeurs sont stockés en C. Nous l'avons dit, une **variable** est un **espace mémoire** pour stocker une **valeur**. Chaque espace mémoire est lui même réferencé dans la machine par une **adresse**. Prenons l'exemple d'une variable:\n",
    "\n",
    "```C\n",
    "int var = 10;\n",
    "```\n",
    "\n",
    "![adresse](./adress1.png)\n",
    "\n",
    "On assigne la valeur `10` à la variable `var`. Cependant, pour que la machine comprenne ou est stocké cette valeur, il est nécessaire d'utiliser un système d'**adressage**. Dans notre exemple sur la figure, l'adresse de la variable `var` est `177450`. En réalité, c'est souvent des grands nombres choisit aléatoirement par la machine lors de la création de la variable.\n",
    "\n",
    "Il est possible d'accéder à l'adresse d'une variable avec le symbole `&`."
   ]
  },
  {
   "cell_type": "code",
   "execution_count": 5,
   "metadata": {},
   "outputs": [
    {
     "name": "stdout",
     "output_type": "stream",
     "text": [
      "l'adresse de la variable var est: 0x7fff3966bcf4"
     ]
    }
   ],
   "source": [
    "#include <stdio.h>\n",
    "\n",
    "int main() {\n",
    "    int var = 145;\n",
    "    \n",
    "    printf(\"l'adresse de la variable var est: %p\", &var); // on utilise \"%p\" et &var pour accéder à l'adresse\n",
    "}"
   ]
  },
  {
   "cell_type": "markdown",
   "metadata": {},
   "source": [
    "Les adresses des variables sont souvent affichés en **héxadécimal**. L'adresse ci-dessus, `0x7fff3966bcf4` vaut en fait: `140 734 156 422 388` en décimal (c'est beaucoup !). On utilise l'héxadécimal pour réduire la taille à l'affichage d'une adresse. \n",
    "\n",
    "Dans les fait, il n'est pas nécessaire de connaitre l'adresse d'une variable, la machine s'occupe de tout pour nous. D'ailleurs, l'adresse changera à chaque exécution d'un programme.\n",
    "\n",
    "Cependant, accéder à l'adresse d'une variable s'avère utile dans certains cas. Nous avons déjà vu l'utilisation des adresses pour le `scanf`.\n",
    "\n",
    "```C\n",
    "scanf(\"%d\", &var);\n",
    "```\n",
    "\n",
    "Le `scanf` utilise l'adresse pour venir assigner une valeur à une variable. Nous allons comprendre pourquoi dans ce chapitre.\n",
    "\n",
    "## Pointeurs\n",
    "\n",
    "Un pointeur est une *variable* qui va **contenir l'adresse d'une autre variable**. On les déclare avec le symbole `*`.\n",
    "\n",
    "```C\n",
    "int *pointeur;\n",
    "```\n",
    "\n",
    "Ici, `pointeur` est une variable qui peut contenir l'adresse d'un autre variable de type `int`. Les pointeurs ont de nombreuses utilités en C, que nous allons décrire un peu plus tards. Afin d'assigner une adresse à un pointeur, on utilise:\n",
    "\n",
    "```C\n",
    "pointeur = &var;\n",
    "```\n",
    "\n",
    "Ceci est cohérent avec ce que nous avons décrit plus haut. On accède à l'adresse de la variable var avec `&`, puis on l'assigne au pointeur.\n",
    "\n",
    "![pointeur](./adress2.png)\n",
    "\n",
    "On voit sur l'image que le pointeur stocke l'adresse de la variable `var`. En faisant cela, il devient possible d'accéder à la **valeur** de `var` à partir du pointeur, cette fois en utilisant le symbole `*`:"
   ]
  },
  {
   "cell_type": "code",
   "execution_count": 12,
   "metadata": {},
   "outputs": [
    {
     "name": "stdout",
     "output_type": "stream",
     "text": [
      "Valeur de var: 10\n",
      "Adresse de var: 0x7fff0a5f1e9c\n",
      "\n",
      "Valeur de var en passant par pointeur: 10\n",
      "Adresse de var en passant par pointeur: 0x7fff0a5f1e9c\n",
      "\n",
      "Adresse de pointeur: 0x7fff0a5f1ea0"
     ]
    }
   ],
   "source": [
    "#include <stdio.h>\n",
    "\n",
    "int main() {\n",
    "    int var = 10;\n",
    "    int *pointeur;\n",
    "    pointeur = &var;\n",
    "    \n",
    "    printf(\"Valeur de var: %d\\n\", var);\n",
    "    printf(\"Adresse de var: %p\\n\\n\", &var);\n",
    "    \n",
    "    printf(\"Valeur de var en passant par pointeur: %d\\n\", *pointeur);\n",
    "    printf(\"Adresse de var en passant par pointeur: %p\\n\\n\", pointeur);\n",
    "    \n",
    "    printf(\"Adresse de pointeur: %p\", &pointeur);\n",
    "}"
   ]
  },
  {
   "cell_type": "markdown",
   "metadata": {},
   "source": [
    "Cela peut paraitre assez compliqué au départ. Les pointeurs rajoutent un certains nombre de notions très spécifiques. Mais il est important de bien comprendre ce qu'il se passe lorsque l'on manipule des pointeurs, afin de ne pas se perdre avec les notations (`&`, `*`, ...).\n",
    "\n",
    "![pointeur](./adress3.png)\n",
    "\n",
    "L'image ci-dessus résume les notations est ce à quoi elles correspondent, n'hésitez pas à vous y référer.\n",
    "\n",
    "On comprends que:\n",
    "- `&` désigne toujours l'adresse de la variable.\n",
    "- `*` n'est utilisé qu'avec les pointeurs, et permet d'accéder à la **valeur** de la variable *pointée* par le pointeur.\n",
    "- Lorsque l'on n'utilise pas de symboles, il faut bien vérifier quel type de variable on manipule. Pour une **variable normale**, on accède à la **valeur**, pour un **pointeur**, on accède à l'**adresse** de la variable pointée."
   ]
  },
  {
   "cell_type": "markdown",
   "metadata": {},
   "source": [
    "## Utilisation des pointeurs\n",
    "\n",
    "Vous vous demander sans doute pourquoi compliquer autant les choses en utilisant les pointeurs ? Et bien ces derniers sont très utilisé en programmation C. Leur utilité principale est la capacité de **modifier** la valeur d'une variable sans jamais apeller cette dernière. Par exemple:"
   ]
  },
  {
   "cell_type": "code",
   "execution_count": 14,
   "metadata": {},
   "outputs": [
    {
     "name": "stdout",
     "output_type": "stream",
     "text": [
      "var = 10\n",
      "var = 15\n"
     ]
    }
   ],
   "source": [
    "#include <stdio.h>\n",
    "\n",
    "int main() {\n",
    "    int var = 10;\n",
    "    \n",
    "    printf(\"var = %d\\n\", var);\n",
    "    \n",
    "    int *pointeur = &var; // on fait pointer pointeur sur var\n",
    "    *pointeur = 15; // on modifie la valeur de var\n",
    "    \n",
    "    printf(\"var = %d\\n\", var);\n",
    "}"
   ]
  },
  {
   "cell_type": "markdown",
   "metadata": {},
   "source": [
    "Ce code permet de modifier la valeur de `var` sans jamais faire appel à `var` (on aurait d'habitude écrit: `var = 15;`).\n",
    "\n",
    "Les pointeurs sont très utilisés en C. Nous allons voir quelques uns de leeurs avantages principaux."
   ]
  },
  {
   "cell_type": "markdown",
   "metadata": {},
   "source": [
    "##  <span style=\"color:red\">Exercice 1</span>\n",
    "\n",
    "**Exercice**:\n",
    "\n",
    "- Utiliser la notion de pointeur pour lire deux entiers et calculer leur somme.\n",
    "\n",
    "*Attention*:\n",
    "- Un pointeur ne peut être utilisé que s'il est d'abord initialisé en pointant sur l'adresse d'une variable.\n",
    "- Bien réfléchir à la manière de lire la valeur d'un pointeur avec `scanf`."
   ]
  },
  {
   "cell_type": "code",
   "execution_count": 10,
   "metadata": {},
   "outputs": [
    {
     "name": "stdout",
     "output_type": "stream",
     "text": [
      "Entrer deux entiers:\n",
      "10 5\n",
      "somme = 10 + 5 = 15"
     ]
    }
   ],
   "source": [
    "#include <stdio.h>\n",
    "\n",
    "int main() {\n",
    "    /* ECRIRE LE CODE ICI */\n",
    "\n",
    "    return 0;\n",
    "}"
   ]
  },
  {
   "cell_type": "markdown",
   "metadata": {},
   "source": [
    "## Passage par référence\n",
    "\n",
    "Nous avons vu dans le chapitre précédent le passage par **valeur** dans les **fonctions**. Cela consiste à copier la valeur dans une variable qui sera détruite à la fin de la fonction:\n",
    "\n",
    "```C\n",
    "void plusUn(int a) { // a est passé par valeur, il est donc copié à l'appel de la fonction\n",
    "    a += 1;\n",
    "}\n",
    "```\n",
    "\n",
    "Cette fonction ne sert donc à rien, puisque la modification effectuée sur `a` ne sera effective que **dans la fonction**.\n",
    "\n",
    "Il est aussi possible de passer la variable par **référence** (qui est au fond un passage par *adresse*), pour lequel la variable n'est pas copiée. Pour cela, on utilise en fait un **pointeur** sur la variable.\n",
    "\n",
    "```C\n",
    "void plusUn(int *a) { // a est passé par référence, il n'est pas copié à l'appel de la fonction\n",
    "    *a += 1; // il faut penser à utiliser *\n",
    "}\n",
    "```\n",
    "\n",
    "Dans ce cas, la modification de `a` sera aussi effective en dehors de la fonction (C'est une technique qui permet en quelque sorte d'augmenter la **portée** de la variable)."
   ]
  },
  {
   "cell_type": "code",
   "execution_count": 31,
   "metadata": {},
   "outputs": [
    {
     "name": "stdout",
     "output_type": "stream",
     "text": [
      "a = 10\n",
      "a = 11\n"
     ]
    }
   ],
   "source": [
    "#include <stdio.h>\n",
    "\n",
    "void plusUnValeur(int a) {\n",
    "    a += 1;\n",
    "}\n",
    "\n",
    "void plusUnReference(int *a) {\n",
    "    *a += 1;\n",
    "}\n",
    "\n",
    "int main() {\n",
    "    int a = 10;\n",
    "\n",
    "    plusUnValeur(a); // fonction inutile\n",
    "    printf(\"a = %d\\n\", a);\n",
    "    \n",
    "    plusUnReference(&a); // ajoute 1 à a, il faut penser à utiliser &\n",
    "    printf(\"a = %d\\n\", a);\n",
    "    return 0; \n",
    "}"
   ]
  },
  {
   "cell_type": "markdown",
   "metadata": {},
   "source": [
    "**Attention**: Lorsqu'une fonction déclare une variable par référence, il faut penser à passer l'**adresse** de la variable dans la fonction (avec `&`), afin que le pointeur puisse fonctionner correctement.\n",
    "\n",
    "### *Remarque:*\n",
    "\n",
    "- On comprends désormais l'écriture un peu particulière du `scanf`. Ce dernier utilise en fait un passage par référence afin que la variable qu'on lui donne soit effectivement modifiée.\n",
    "\n",
    "### Fonction à sorties multiples\n",
    "\n",
    "Nous avons dit précédement qu'une fonction ne pouvait pas `return` plus d'une variable. Cependant, grâce aux passages par références, il est possible de contourner cette limitation.\n",
    "\n",
    "```C\n",
    "void permuter(int *a, int *b) {\n",
    "    int temp = *a;\n",
    "    *a = *b;\n",
    "    *b = temp;\n",
    "}\n",
    "```\n",
    "\n",
    "Cette fonction permet d'échanger les valeurs de 2 variables. Elle nécessite 2 sorties (`a` et `b`), il faut donc penser à utiliser un passage par référence."
   ]
  },
  {
   "cell_type": "markdown",
   "metadata": {},
   "source": [
    "##  <span style=\"color:red\">Exercice 2</span>\n",
    "\n",
    "**Exercice**:\n",
    "\n",
    "- Ecrire une fonction `divisionEntiere` qui prend deux entiers, calul la divisions entière entre eux et retourne 2 variables en sortie, le *quotient* et le *reste*."
   ]
  },
  {
   "cell_type": "code",
   "execution_count": 18,
   "metadata": {},
   "outputs": [
    {
     "name": "stdout",
     "output_type": "stream",
     "text": [
      "Entrer deux entiers\n",
      "10 3\n",
      "10/3: quotient = 3, reste = 1"
     ]
    }
   ],
   "source": [
    "#include <stdio.h>\n",
    "\n",
    "\n",
    "/* ECRIRE LE CODE ICI */\n",
    "\n",
    "int main() {\n",
    "    int a, b, quotient, reste;\n",
    "    \n",
    "    printf(\"Entrer deux entiers\\n\");\n",
    "    scanf(\"%d%d\", &a, &b);\n",
    "    \n",
    "    /* ECRIRE LE CODE ICI */\n",
    "    \n",
    "    printf(\"%d/%d: quotient = %d, reste = %d\", a, b, quotient, reste);\n",
    "    return 0;\n",
    "}"
   ]
  },
  {
   "cell_type": "markdown",
   "metadata": {},
   "source": [
    "## Tableaux et pointeurs\n",
    "\n",
    "Les cases d'un tableaux sont mises les unes à la suite des autres dans la mémoire de la machine. Cela signifie que les **adresses** des cases du tableau se suivent.\n",
    "\n",
    "Lorsque l'on définit un tableau:\n",
    "\n",
    "```C\n",
    "int tab[5];\n",
    "```\n",
    "\n",
    "Le nom du tableau (`tab`) est en fait un **pointeur**. Ce dernier pointe sur l'adresse de la première cellule du tableau."
   ]
  },
  {
   "cell_type": "code",
   "execution_count": 30,
   "metadata": {},
   "outputs": [
    {
     "name": "stdout",
     "output_type": "stream",
     "text": [
      "5\n",
      "5\n"
     ]
    }
   ],
   "source": [
    "#include <stdio.h>\n",
    "\n",
    "int main() {\n",
    "    int tab[5] = {5, 6, 7, 8, 9};\n",
    "    \n",
    "    printf(\"%d\\n\", tab[0]); // affiche la valeur de la première case du tableau\n",
    "    printf(\"%d\\n\", *tab); // equivaut à la ligne du dessus\n",
    "}"
   ]
  },
  {
   "cell_type": "markdown",
   "metadata": {},
   "source": [
    "La nature de pointeur d'un tableau signifie qu'il sera toujours passé par **référence**, et donc que les modifications apportées à un tableau dans une fonction seront aussi effectives en dehors de la fonction. "
   ]
  },
  {
   "cell_type": "code",
   "execution_count": 45,
   "metadata": {},
   "outputs": [
    {
     "name": "stdout",
     "output_type": "stream",
     "text": [
      "Avant fonction\n",
      "1 2 3 \n",
      "Apres fonction\n",
      "8 2 3 "
     ]
    }
   ],
   "source": [
    "#include <stdio.h>\n",
    "\n",
    "void modifierTableau(int tab[]) {\n",
    "    tab[0] = 8; // on modifie la premiere case du tableau\n",
    "}\n",
    "\n",
    "int main() {\n",
    "    int tab[3] = {1, 2, 3};\n",
    "    \n",
    "    printf(\"Avant fonction\\n\");\n",
    "    for (int i = 0; i < 3; i++) {\n",
    "        printf(\"%d \", tab[i]);\n",
    "    }\n",
    "    \n",
    "    modifierTableau(tab);\n",
    "    \n",
    "    printf(\"\\nApres fonction\\n\");\n",
    "    for (int i = 0; i < 3; i++) {\n",
    "        printf(\"%d \", tab[i]);\n",
    "    }\n",
    "    return 0;\n",
    "}"
   ]
  },
  {
   "cell_type": "markdown",
   "metadata": {},
   "source": [
    "##  <span style=\"color:red\">Exercice 3</span>\n",
    "\n",
    "**Exercice**:\n",
    "\n",
    "- Définir et utilise une fonction `inserer`, qui insère un entier dans un tableau.\n",
    "\n",
    "- La fontion prend en entier un tableau, la taille de ce tableau qu'elle devra mettre à jours, la position d'insertion et la valeur à insérer.\n",
    "\n",
    "**Attention:** Lorsque l'on insère, il faut penser à décaler tout les éléments au dessus de la position à insérer."
   ]
  },
  {
   "cell_type": "code",
   "execution_count": 64,
   "metadata": {},
   "outputs": [
    {
     "name": "stdout",
     "output_type": "stream",
     "text": [
      "1 2 3 4 5 \n",
      "Entrer une position d'insertion\n",
      "3\n",
      "Entrer une valeur à insérer\n",
      "15\n",
      "1 2 15 3 4 5 \n"
     ]
    }
   ],
   "source": [
    "#include <stdio.h>\n",
    "\n",
    "void afficherTableau(int n, int tab[]) {\n",
    "    for (int i = 0; i < n; i++) {\n",
    "        printf(\"%d \", tab[i]);\n",
    "    }\n",
    "    printf(\"\\n\");\n",
    "}\n",
    "\n",
    "/* ECRIRE LE CODE ICI */\n",
    "\n",
    "int main() {\n",
    "    int tab[100] = {1, 2, 3, 4, 5};\n",
    "    int n = 5;\n",
    "    \n",
    "    afficherTableau(n, tab);\n",
    "    \n",
    "    int pos, val;\n",
    "    printf(\"Entrer une position d'insertion\\n\");\n",
    "    scanf(\"%d\", &pos);\n",
    "    printf(\"%d\\n\", pos = 3);\n",
    "    printf(\"Entrer une valeur à insérer\\n\");\n",
    "    scanf(\"%d\", &val);\n",
    "    printf(\"%d\\n\", val = 15);\n",
    "    \n",
    "    /* ECRIRE LE CODE ICI */\n",
    "    \n",
    "    afficherTableau(n, tab);\n",
    "    return 0;\n",
    "}"
   ]
  },
  {
   "cell_type": "markdown",
   "metadata": {},
   "source": [
    "## Pointeurs et structures\n",
    "\n",
    "Il est possible d'utiliser un pointeur sur tout type de variables, même sur des **structures** crées par l'utilisateur. Cela présente un certains nombre d'avantages:\n",
    "\n",
    "- Si l'on souhaite modifier les **attributs** d'une structures dans une fonction, un passage par référence (et donc l'utilisation d'un pointeur) est nécessaire.\n",
    "- Une structure peut être constituée de nombreuses variables, et donc prendre une place importante en mémoire. Aussi, copier une structure peut avoir un coût important en place et en temps de copie. L'utilisation d'un pointeur permet d'éviter cette copie."
   ]
  },
  {
   "cell_type": "code",
   "execution_count": 4,
   "metadata": {},
   "outputs": [
    {
     "name": "stdout",
     "output_type": "stream",
     "text": [
      "Point: x = 2, y = 5\n",
      "Point: x = 7, y = 5\n"
     ]
    }
   ],
   "source": [
    "#include <stdio.h>\n",
    "\n",
    "typedef struct Point2D Point2D;\n",
    "struct Point2D {\n",
    "    int x;\n",
    "    int y;\n",
    "};\n",
    "\n",
    "int main() {\n",
    "    Point2D point = {2, 5}; // on déclare un point\n",
    "    \n",
    "    printf(\"Point: x = %d, y = %d\\n\", point.x, point.y);\n",
    "    \n",
    "    Point2D *pointeur = &point; // pointeur sur la structure\n",
    "    (*pointeur).x = 7; // on change la valeur de x\n",
    "    \n",
    "    printf(\"Point: x = %d, y = %d\\n\", point.x, point.y);\n",
    "}"
   ]
  },
  {
   "cell_type": "markdown",
   "metadata": {},
   "source": [
    "On remarque dans l'exemple ci-dessus l'utilisation de `()` pour le pointeur.\n",
    "\n",
    "Ecrire:\n",
    "\n",
    "```C\n",
    "*pointeur.x = 7; // faux\n",
    "```\n",
    "\n",
    "ne fonctionne pas, car `*` référerait alors à la variable `x`, or celle-ci n'est pas un pointeur. Il faut donc préciser le placement de l'asterix en utilisant:\n",
    "\n",
    "```C\n",
    "*(pointeur).x = 7;\n",
    "```\n",
    "\n",
    "Cette notation peut devenir complexe lorsque l'on manipule des structures contenant d'autres structures, c'est pourquoi il existe une notation alternative que les développeurs utilisent régulièrements:\n",
    "\n",
    "```C\n",
    "pointeur->x = 7; // equivalent à l'expression au dessus\n",
    "```"
   ]
  },
  {
   "cell_type": "markdown",
   "metadata": {},
   "source": [
    "##  <span style=\"color:red\">Exercice 4</span>\n",
    "\n",
    "**Exercice**:\n",
    "\n",
    "- Créer une structure `Personne` contenant le nom et l'age d'une personne, et une fonction `anniversaire` qui augmente l'age d'une personne de 1."
   ]
  },
  {
   "cell_type": "code",
   "execution_count": 17,
   "metadata": {},
   "outputs": [
    {
     "name": "stdout",
     "output_type": "stream",
     "text": [
      "John a 27 ans.\n",
      "Bon Anniversaire! John a désormais 28 ans.\n"
     ]
    }
   ],
   "source": [
    "#include <stdio.h>\n",
    "#include <string.h> // donne acces a strcpy\n",
    "\n",
    "/* ECRIRE LE CODE ICI */\n",
    "\n",
    "int main() {\n",
    "  Person john;\n",
    "  strcpy(john.prenom, \"John\"); // permet d'assigner une chaine de caractere\n",
    "  john.age = 27;\n",
    "\n",
    "  printf(\"%s a %d ans.\\n\", john.prenom, john.age);\n",
    "    \n",
    "  /* ECRIRE LE CODE ICI */\n",
    "\n",
    "  printf(\"Bon Anniversaire! %s a désormais %d ans.\\n\", john.prenom, john.age);\n",
    "\n",
    "  return 0;\n",
    "}"
   ]
  },
  {
   "cell_type": "markdown",
   "metadata": {},
   "source": [
    "## Exercices Complémentaires"
   ]
  },
  {
   "cell_type": "markdown",
   "metadata": {},
   "source": [
    "##  <span style=\"color:red\">Exercice 5</span>\n",
    "\n",
    "**Exercice**:\n",
    "\n",
    "- Définir et utiliser une fonction `trier` qui trie, dans un ordre croissant, les éléments d'un tableau d'entiers."
   ]
  },
  {
   "cell_type": "markdown",
   "metadata": {},
   "source": [
    "##  <span style=\"color:red\">Exercice 6</span>\n",
    "\n",
    "**Exercice**:\n",
    "\n",
    "- Créer une structure `ListeChainee` permettant d'utiliser des listes chainées comme structures de données.\n",
    "\n",
    "Une liste chainée est assez similaire à un tableau, chaque élément de la liste est liée (penser aux pointeurs) à l'élément suivant.\n",
    "De plus chaque élément peut contenir une valeur.\n",
    "\n",
    "Puis, créer des fonctions permettant:\n",
    "- d'afficher la liste\n",
    "- d'ajouter un élément à la fin de la liste\n",
    "- de retirer un élément à la fin de la liste\n",
    "- d'insérer un élément dans la liste\n",
    "- de retirer un élément de la liste"
   ]
  }
 ],
 "metadata": {
  "kernelspec": {
   "display_name": "C",
   "language": "c",
   "name": "c"
  },
  "language_info": {
   "file_extension": ".c",
   "mimetype": "text/plain",
   "name": "c"
  }
 },
 "nbformat": 4,
 "nbformat_minor": 2
}
